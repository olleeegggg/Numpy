{
 "cells": [
  {
   "cell_type": "markdown",
   "id": "58c991c4-a232-4315-99ce-1af5bce94178",
   "metadata": {
    "jp-MarkdownHeadingCollapsed": true
   },
   "source": [
    "# Lesson01"
   ]
  },
  {
   "cell_type": "markdown",
   "id": "def79054-4380-4fd3-9f2a-3a6814dac66f",
   "metadata": {},
   "source": [
    "**Документация**: https://numpy.org/doc/stable/user/index.html#user"
   ]
  },
  {
   "cell_type": "markdown",
   "id": "29e8a30e-e846-4176-93b8-78ba7d576507",
   "metadata": {
    "jp-MarkdownHeadingCollapsed": true
   },
   "source": [
    "## Импорт библиотеки"
   ]
  },
  {
   "cell_type": "code",
   "execution_count": 1,
   "id": "b90038b9-dc93-4259-9246-a71f6c70afe4",
   "metadata": {},
   "outputs": [],
   "source": [
    "import numpy as np"
   ]
  },
  {
   "cell_type": "markdown",
   "id": "41487c61-9f01-4a63-a544-8004b3a86d21",
   "metadata": {
    "jp-MarkdownHeadingCollapsed": true
   },
   "source": [
    "## Создание массива/двумерного массива"
   ]
  },
  {
   "cell_type": "markdown",
   "id": "3aa28ef9-e775-4c64-9704-08e344203525",
   "metadata": {},
   "source": [
    "**Создание одномерного массива**"
   ]
  },
  {
   "cell_type": "code",
   "execution_count": 2,
   "id": "8881f3eb-5029-4d3b-9381-392659249e1a",
   "metadata": {},
   "outputs": [
    {
     "data": {
      "text/plain": [
       "array([1, 2, 3, 4, 5])"
      ]
     },
     "execution_count": 2,
     "metadata": {},
     "output_type": "execute_result"
    }
   ],
   "source": [
    "lst = [1, 2, 3, 4, 5]\n",
    "arr = np.array(lst)\n",
    "arr"
   ]
  },
  {
   "cell_type": "markdown",
   "id": "8fca29c8-6a2e-4fbc-a7ce-94fe40e635c6",
   "metadata": {},
   "source": [
    "Одно из самых важных свойств массива: все элементы в нём должны быть **одного типа**."
   ]
  },
  {
   "cell_type": "code",
   "execution_count": 3,
   "id": "3d7ccda0-a5d9-4609-b591-b28eab3e83b5",
   "metadata": {},
   "outputs": [
    {
     "data": {
      "text/plain": [
       "array([1.2, 3.4, 5. , 6. , 7. , 8. , 9. ])"
      ]
     },
     "execution_count": 3,
     "metadata": {},
     "output_type": "execute_result"
    }
   ],
   "source": [
    "lst_float = [1.2, 3.4, 5, 6, 7, 8, 9]\n",
    "arr_float = np.array(lst_float)\n",
    "arr_float"
   ]
  },
  {
   "cell_type": "markdown",
   "id": "74fb26aa-e062-4149-9752-338b2b5c6e45",
   "metadata": {},
   "source": [
    "**Создание двумерного массива**"
   ]
  },
  {
   "cell_type": "code",
   "execution_count": 4,
   "id": "f08b8fcf-026a-45cf-aeee-dc53412e02f7",
   "metadata": {},
   "outputs": [
    {
     "data": {
      "text/plain": [
       "array([[1, 2, 3],\n",
       "       [4, 5, 6]])"
      ]
     },
     "execution_count": 4,
     "metadata": {},
     "output_type": "execute_result"
    }
   ],
   "source": [
    "lst2 = [[1, 2, 3], [4, 5, 6]]\n",
    "arr2 = np.array(lst2)\n",
    "arr2"
   ]
  },
  {
   "cell_type": "code",
   "execution_count": 5,
   "id": "1beb5cc5-7abe-43cc-b88c-233d2b53a2ff",
   "metadata": {},
   "outputs": [
    {
     "data": {
      "text/plain": [
       "array([[1. , 2. , 3. ],\n",
       "       [4.9, 5. , 6. ]])"
      ]
     },
     "execution_count": 5,
     "metadata": {},
     "output_type": "execute_result"
    }
   ],
   "source": [
    "lst2_float = [[1, 2, 3], [4.9, 5, 6]]\n",
    "arr2_float = np.array(lst2_float)\n",
    "arr2_float"
   ]
  },
  {
   "cell_type": "markdown",
   "id": "5cf2dea3-7ec7-4d88-9caf-9c04917d705e",
   "metadata": {
    "jp-MarkdownHeadingCollapsed": true
   },
   "source": [
    "## Как узнать тип данных в массиве? dtype"
   ]
  },
  {
   "cell_type": "code",
   "execution_count": 6,
   "id": "662e1a75-101d-453e-8f49-08e588562079",
   "metadata": {},
   "outputs": [
    {
     "data": {
      "text/plain": [
       "dtype('int64')"
      ]
     },
     "execution_count": 6,
     "metadata": {},
     "output_type": "execute_result"
    }
   ],
   "source": [
    "arr.dtype"
   ]
  },
  {
   "cell_type": "code",
   "execution_count": 7,
   "id": "be6ddd2f-3aa5-4f2b-8e11-58b65719227d",
   "metadata": {},
   "outputs": [
    {
     "data": {
      "text/plain": [
       "dtype('float64')"
      ]
     },
     "execution_count": 7,
     "metadata": {},
     "output_type": "execute_result"
    }
   ],
   "source": [
    "arr_float.dtype"
   ]
  },
  {
   "cell_type": "markdown",
   "id": "4e63c71e-54fb-4472-bda3-13147a74860a",
   "metadata": {
    "jp-MarkdownHeadingCollapsed": true
   },
   "source": [
    "## Как измерить длину массива? len() shape ndim"
   ]
  },
  {
   "cell_type": "markdown",
   "id": "76f1a012-f505-4b3d-aff3-51f4ff15ee82",
   "metadata": {},
   "source": [
    "В случае с одномерным массивом всё понятно, функция **len()** выведет количество элементов в нём."
   ]
  },
  {
   "cell_type": "code",
   "execution_count": 8,
   "id": "3444fca5-3ff6-4fe9-b776-3854745cff38",
   "metadata": {},
   "outputs": [
    {
     "data": {
      "text/plain": [
       "5"
      ]
     },
     "execution_count": 8,
     "metadata": {},
     "output_type": "execute_result"
    }
   ],
   "source": [
    "arr = np.array([1, 2, 3, 4, 5])\n",
    "len(arr)"
   ]
  },
  {
   "cell_type": "markdown",
   "id": "8990ddc6-efa8-4996-bdb3-9c7353d4c9c6",
   "metadata": {},
   "source": [
    "Функция len() для двумерного массива выведет нам количество вложенных в него элементов. В нашем случае в ```arr2``` вложено 2 элемента, которые в свою очередь также являются массивами."
   ]
  },
  {
   "cell_type": "code",
   "execution_count": 9,
   "id": "9ef244a9-42be-4f71-9199-6febd3ba2fe6",
   "metadata": {},
   "outputs": [
    {
     "data": {
      "text/plain": [
       "2"
      ]
     },
     "execution_count": 9,
     "metadata": {},
     "output_type": "execute_result"
    }
   ],
   "source": [
    "arr2 = np.array([[1, 2, 3], [4, 5, 6]])\n",
    "len(arr2)"
   ]
  },
  {
   "cell_type": "markdown",
   "id": "8d0a5c45-e0a9-42ba-a43c-368e129545bd",
   "metadata": {},
   "source": [
    "А если мы хотим узнать больше про наш двумерный массив? С этим нам поможет метод **shape**. Он возвращает кортеж, где первый элемент отвечает за количество вложенных массивов, а второй за количество элементов в каждом из них."
   ]
  },
  {
   "cell_type": "code",
   "execution_count": 10,
   "id": "e8449ebf-0da6-463a-998b-78af4d819dd0",
   "metadata": {},
   "outputs": [
    {
     "data": {
      "text/plain": [
       "(2, 3)"
      ]
     },
     "execution_count": 10,
     "metadata": {},
     "output_type": "execute_result"
    }
   ],
   "source": [
    "arr2 = np.array([[1, 2, 3], [4, 5, 6]])\n",
    "arr2.shape"
   ]
  },
  {
   "cell_type": "markdown",
   "id": "8b7de04a-801e-45c0-a907-e7ad45e84197",
   "metadata": {},
   "source": [
    "Хотя на самом деле shape показывает, насколько глубок массив и сколько элементов на каждом из уровней. Пусть n - длина кортежа, получаемого на выходе при использовании метода shape. Тогда мы можем говорить о том, что массив будет n-мерным."
   ]
  },
  {
   "cell_type": "code",
   "execution_count": 11,
   "id": "f7e56294-84c7-4ae5-9846-e604648d16f3",
   "metadata": {},
   "outputs": [
    {
     "data": {
      "text/plain": [
       "(3, 2, 1)"
      ]
     },
     "execution_count": 11,
     "metadata": {},
     "output_type": "execute_result"
    }
   ],
   "source": [
    "arr3 = np.array([[[1], [2]], [[3], [4]], [[5], [6]]])\n",
    "arr3.shape"
   ]
  },
  {
   "cell_type": "code",
   "execution_count": 12,
   "id": "65e99420-7fb9-48f7-b53a-d30cc7165545",
   "metadata": {},
   "outputs": [
    {
     "data": {
      "text/plain": [
       "(3, 2, 3, 1)"
      ]
     },
     "execution_count": 12,
     "metadata": {},
     "output_type": "execute_result"
    }
   ],
   "source": [
    "arr4 = np.array([[[[1], [2], [3]], [[4], [5], [6]]], [[[7], [8], [9]], [[10], [11], [12]]], [[[13], [14], [15]], [[16], [17], [18]]]])\n",
    "arr4.shape"
   ]
  },
  {
   "cell_type": "markdown",
   "id": "51e21989-7e04-4dbf-862d-1d5b989ec7ec",
   "metadata": {},
   "source": [
    "Чтобы не исхищряться и не смотреть на длину кортежа, получаемого при использовании метода shape лучше использовать метод **ndim**."
   ]
  },
  {
   "cell_type": "code",
   "execution_count": 13,
   "id": "172afaf6-fb2a-433f-9b95-1714d456cb6c",
   "metadata": {},
   "outputs": [
    {
     "data": {
      "text/plain": [
       "4"
      ]
     },
     "execution_count": 13,
     "metadata": {},
     "output_type": "execute_result"
    }
   ],
   "source": [
    "arr4 = np.array([[[[1], [2], [3]], [[4], [5], [6]]], [[[7], [8], [9]], [[10], [11], [12]]], [[[13], [14], [15]], [[16], [17], [18]]]])\n",
    "arr4.ndim"
   ]
  },
  {
   "cell_type": "code",
   "execution_count": 14,
   "id": "dec35484-da01-4263-a7b0-7b8daae69701",
   "metadata": {},
   "outputs": [
    {
     "data": {
      "text/plain": [
       "True"
      ]
     },
     "execution_count": 14,
     "metadata": {},
     "output_type": "execute_result"
    }
   ],
   "source": [
    "arr4.ndim == len(arr4.shape)"
   ]
  },
  {
   "cell_type": "markdown",
   "id": "66d7ded2-1740-43cf-a21c-6cf6d5148dfa",
   "metadata": {},
   "source": [
    "*P.S. Опытный читатель, знакомый с 1 курсом линейной алгебры поймёт, что ndim - number of dimensions - dimension - размерность. В контексте линейной алгебры обычно говорят про размерность пространства и обозначают это, как dim(L)*"
   ]
  },
  {
   "cell_type": "markdown",
   "id": "9adf6b7a-02c9-425c-b07a-f70c76fbb2c8",
   "metadata": {
    "jp-MarkdownHeadingCollapsed": true
   },
   "source": [
    "## Как создать нулевую и единичную матрицу? zeros() ones()"
   ]
  },
  {
   "cell_type": "markdown",
   "id": "ae7b09c5-5910-4c8c-a0e0-ad99eb4d6d72",
   "metadata": {},
   "source": [
    "Для создания массива из нулей достаточно прописать количество нулей, которое желает пользователь. Используем функцию **zeros()**."
   ]
  },
  {
   "cell_type": "code",
   "execution_count": 15,
   "id": "443ce4c4-6d09-4490-b82e-0da0f636743b",
   "metadata": {},
   "outputs": [
    {
     "data": {
      "text/plain": [
       "array([0., 0., 0., 0., 0.])"
      ]
     },
     "execution_count": 15,
     "metadata": {},
     "output_type": "execute_result"
    }
   ],
   "source": [
    "zero_array = np.zeros(5)\n",
    "zero_array"
   ]
  },
  {
   "cell_type": "markdown",
   "id": "55e32391-be07-48b2-bb1e-aded8d3e5aba",
   "metadata": {},
   "source": [
    "<b>Нулева́я матрица</b> — это матрица, размера m × n, все элементы которой равны нулю."
   ]
  },
  {
   "cell_type": "markdown",
   "id": "da05bb0d-6c89-4cad-b4b5-9bd49f028180",
   "metadata": {},
   "source": [
    "Для её создания воспользуемся функцией zeros(), но в качестве аргумента передадим ей кортеж ```(m, n)```, где m - количество строк, а n - количество столбцов."
   ]
  },
  {
   "cell_type": "code",
   "execution_count": 16,
   "id": "e63a7804-7c29-4726-a390-84515b09ae43",
   "metadata": {},
   "outputs": [
    {
     "data": {
      "text/plain": [
       "array([[0., 0., 0.],\n",
       "       [0., 0., 0.]])"
      ]
     },
     "execution_count": 16,
     "metadata": {},
     "output_type": "execute_result"
    }
   ],
   "source": [
    "zero_matrix = np.zeros((2, 3))  # 2 строки и 3 столбца\n",
    "zero_matrix"
   ]
  },
  {
   "cell_type": "markdown",
   "id": "2f1ccfe7-2cf8-44c0-a7fb-619a648d3e35",
   "metadata": {},
   "source": [
    "Для создания массива из единиц достаточно прописать количество единиц, которое желает пользователь. Используем функцию **ones()**."
   ]
  },
  {
   "cell_type": "code",
   "execution_count": 17,
   "id": "bdf488e3-86de-45e6-8b31-63b182aaf396",
   "metadata": {},
   "outputs": [
    {
     "data": {
      "text/plain": [
       "array([1., 1., 1., 1., 1.])"
      ]
     },
     "execution_count": 17,
     "metadata": {},
     "output_type": "execute_result"
    }
   ],
   "source": [
    "ones_array = np.ones(5)\n",
    "ones_array"
   ]
  },
  {
   "cell_type": "markdown",
   "id": "2605d23e-6904-4570-9042-fca2c84eeb36",
   "metadata": {},
   "source": [
    "<b>Единичная матрица</b> — это матрица, размера m × n, все элементы которой равны одному."
   ]
  },
  {
   "cell_type": "markdown",
   "id": "a15dcad7-a489-4090-997c-40b05b05be64",
   "metadata": {},
   "source": [
    "Для её создания воспользуемся функцией ones(), но в качестве аргумента передадим ей кортеж ```(m, n)```, где m - количество строк, а n - количество столбцов."
   ]
  },
  {
   "cell_type": "code",
   "execution_count": 18,
   "id": "66f369bf-4e76-4a03-bc52-5e26588bce2e",
   "metadata": {},
   "outputs": [
    {
     "data": {
      "text/plain": [
       "array([[1., 1., 1.],\n",
       "       [1., 1., 1.]])"
      ]
     },
     "execution_count": 18,
     "metadata": {},
     "output_type": "execute_result"
    }
   ],
   "source": [
    "ones_matrix = np.ones((2, 3))  # 2 строки и 3 столбца\n",
    "ones_matrix"
   ]
  },
  {
   "cell_type": "markdown",
   "id": "782e6065-45e2-46b2-b9c6-6249b3ff0e8d",
   "metadata": {},
   "source": [
    "На самом деле можно в кортеж передавать и больше чисел, но это слишком сложно для понимания на визуальном уровне."
   ]
  },
  {
   "cell_type": "markdown",
   "id": "6850b797-08c0-4e86-ac16-bedf7ec6d320",
   "metadata": {
    "jp-MarkdownHeadingCollapsed": true
   },
   "source": [
    "## Как заполнить массив/матрицу произвольными значениями? full()"
   ]
  },
  {
   "cell_type": "markdown",
   "id": "746bc309-8dbc-4631-8405-1c6d85b7b2c8",
   "metadata": {},
   "source": [
    "Прочитав предыдущий пункт, у многих закономерно возник вопрос: \"*А как заполнить массив произвольными значениями?*\""
   ]
  },
  {
   "cell_type": "markdown",
   "id": "0946c9e2-ad62-494c-8f29-b39630fcdc2e",
   "metadata": {},
   "source": [
    "Легко, используем функцию **full()**. В качестве первого аргумента передадим размер, а в качестве второго - то, чем будем заполнять массив."
   ]
  },
  {
   "cell_type": "code",
   "execution_count": 19,
   "id": "1b80359c-c067-4c8e-95f9-e40dc68ddaee",
   "metadata": {},
   "outputs": [
    {
     "data": {
      "text/plain": [
       "array([5, 5, 5, 5, 5, 5, 5, 5, 5, 5])"
      ]
     },
     "execution_count": 19,
     "metadata": {},
     "output_type": "execute_result"
    }
   ],
   "source": [
    "array_full_of_fives = np.full(10, 5)\n",
    "array_full_of_fives"
   ]
  },
  {
   "cell_type": "markdown",
   "id": "51b6d03a-3edc-4562-8bf4-c0b2e3adfab6",
   "metadata": {},
   "source": [
    "В случае, если мы захотим создать матрицу, то в качестве первого аргумента передадим кортеж ```(m, n)```, где m - количество строк, а n - количество столбцов."
   ]
  },
  {
   "cell_type": "code",
   "execution_count": 20,
   "id": "a1ae6d26-49db-43bf-a7c0-8d92a4f48df1",
   "metadata": {},
   "outputs": [
    {
     "data": {
      "text/plain": [
       "array([[9, 9, 9, 9, 9],\n",
       "       [9, 9, 9, 9, 9],\n",
       "       [9, 9, 9, 9, 9],\n",
       "       [9, 9, 9, 9, 9]])"
      ]
     },
     "execution_count": 20,
     "metadata": {},
     "output_type": "execute_result"
    }
   ],
   "source": [
    "matrix_full_of_nines = np.full((4, 5), 9)  # 4 строки и 5 столбцов\n",
    "matrix_full_of_nines"
   ]
  },
  {
   "cell_type": "markdown",
   "id": "1aaca4a2-d997-4d13-b629-cfca641acb14",
   "metadata": {
    "jp-MarkdownHeadingCollapsed": true
   },
   "source": [
    "## Как создать массив, который будет заполнен значениями от 0 до N? arange()"
   ]
  },
  {
   "cell_type": "markdown",
   "id": "1c2e9564-2ce4-425c-9977-2da31796ff72",
   "metadata": {},
   "source": [
    "Функция **arange()**. По сути тот же range() только для массивов в numpy."
   ]
  },
  {
   "cell_type": "code",
   "execution_count": 21,
   "id": "a2796ece-ada9-47c3-85f2-0ce296a320fc",
   "metadata": {},
   "outputs": [
    {
     "data": {
      "text/plain": [
       "array([0, 1, 2, 3, 4, 5, 6, 7, 8, 9])"
      ]
     },
     "execution_count": 21,
     "metadata": {},
     "output_type": "execute_result"
    }
   ],
   "source": [
    "np.arange(10)"
   ]
  },
  {
   "cell_type": "markdown",
   "id": "1ea2d254-b1c1-4834-b6af-f28fa8c798d3",
   "metadata": {},
   "source": [
    "Точно так же, как и в range(), в **arange()** можно задавать ```(start, finish, step)```."
   ]
  },
  {
   "cell_type": "code",
   "execution_count": 22,
   "id": "5a8dd054-a338-4743-9ded-5c537ea54e05",
   "metadata": {},
   "outputs": [
    {
     "data": {
      "text/plain": [
       "array([0, 2, 4, 6, 8])"
      ]
     },
     "execution_count": 22,
     "metadata": {},
     "output_type": "execute_result"
    }
   ],
   "source": [
    "np.arange(0, 10, 2)"
   ]
  },
  {
   "cell_type": "markdown",
   "id": "622c6664-9ea2-4b32-8624-fe05791b07db",
   "metadata": {
    "jp-MarkdownHeadingCollapsed": true
   },
   "source": [
    "# Lesson02"
   ]
  },
  {
   "cell_type": "markdown",
   "id": "689f300c-613c-4084-9cef-5f0253065781",
   "metadata": {},
   "source": [
    "## Как задать тип данных? dtype astype()"
   ]
  },
  {
   "cell_type": "code",
   "execution_count": 23,
   "id": "819b5bdc-3304-4464-adbb-08cfc3f424f4",
   "metadata": {},
   "outputs": [
    {
     "data": {
      "text/plain": [
       "array([1, 2, 3, 4, 5])"
      ]
     },
     "execution_count": 23,
     "metadata": {},
     "output_type": "execute_result"
    }
   ],
   "source": [
    "arr = np.array([1, 2, 3, 4, 5])\n",
    "arr"
   ]
  },
  {
   "cell_type": "markdown",
   "id": "23c9be03-a8bf-4a62-b726-5dc76d280ad1",
   "metadata": {},
   "source": [
    "А что если я хочу, чтобы у меня были не целые числа, а с плавающей запятой? Тогда нужно дописать параметр **dtype=**."
   ]
  },
  {
   "cell_type": "code",
   "execution_count": 24,
   "id": "0e16bf78-bc70-4675-b920-58109a9a9070",
   "metadata": {},
   "outputs": [
    {
     "data": {
      "text/plain": [
       "array([1., 2., 3., 4., 5.])"
      ]
     },
     "execution_count": 24,
     "metadata": {},
     "output_type": "execute_result"
    }
   ],
   "source": [
    "arr = np.array([1, 2, 3, 4, 5], dtype=np.float64)\n",
    "arr"
   ]
  },
  {
   "cell_type": "markdown",
   "id": "1aa6da67-304f-43d3-860d-fd314ea04eaa",
   "metadata": {},
   "source": [
    "А что если у нас уже есть массив, и мы хотим, чтобы все значения в нём снова стали *int*?\n",
    "Для этого существует функция **astype()**. В аргумент функции передаётся тот тип данных, который мы желаем."
   ]
  },
  {
   "cell_type": "code",
   "execution_count": 25,
   "id": "2409d96b-1481-47f4-827e-5b3313694585",
   "metadata": {},
   "outputs": [
    {
     "data": {
      "text/plain": [
       "array([1, 2, 3, 4, 5], dtype=int32)"
      ]
     },
     "execution_count": 25,
     "metadata": {},
     "output_type": "execute_result"
    }
   ],
   "source": [
    "arr = arr.astype(np.int32)\n",
    "arr"
   ]
  },
  {
   "cell_type": "markdown",
   "id": "e383fea1-5f39-4264-ae44-87da033f9735",
   "metadata": {},
   "source": [
    "<b>*Важное замечание!*</b> Сама по себе функция *astype()* не меняет значение массива, а возвращает его копию с изменённым типом данных, поэтому нужно куда-то сохранять копию массива."
   ]
  },
  {
   "cell_type": "code",
   "execution_count": 26,
   "id": "a7e6f584-3c39-44b1-a0f6-90816570ba6e",
   "metadata": {},
   "outputs": [
    {
     "data": {
      "text/plain": [
       "array([1, 2, 3, 4, 5], dtype=int32)"
      ]
     },
     "execution_count": 26,
     "metadata": {},
     "output_type": "execute_result"
    }
   ],
   "source": [
    "arr.astype(np.float64)\n",
    "arr"
   ]
  },
  {
   "cell_type": "markdown",
   "id": "8ed78c84-7c93-445f-a89c-349b6eef1316",
   "metadata": {},
   "source": [
    "Если вы поменяете тип данных с **float_ на int_**, то numpy отрежет десятичную часть от каждого числа и оставит только целую. В целом, нормальное и типичное поведение для питона."
   ]
  },
  {
   "cell_type": "code",
   "execution_count": 27,
   "id": "e250999a-1abd-4157-998a-4150d91e5d66",
   "metadata": {},
   "outputs": [
    {
     "data": {
      "text/plain": [
       "array([1.01, 9.99, 4.5 , 6.45, 7.8 ])"
      ]
     },
     "execution_count": 27,
     "metadata": {},
     "output_type": "execute_result"
    }
   ],
   "source": [
    "arr = np.array([1.01, 9.99, 4.5, 6.45, 7.8,])\n",
    "arr"
   ]
  },
  {
   "cell_type": "code",
   "execution_count": 28,
   "id": "c83fd805-8973-40b9-ab75-883caff8852d",
   "metadata": {},
   "outputs": [
    {
     "data": {
      "text/plain": [
       "array([1, 9, 4, 6, 7], dtype=int32)"
      ]
     },
     "execution_count": 28,
     "metadata": {},
     "output_type": "execute_result"
    }
   ],
   "source": [
    "arr = arr.astype(np.int32)\n",
    "arr"
   ]
  },
  {
   "cell_type": "markdown",
   "id": "977867ee-89d3-4b8b-b38f-dd4e6bbf8860",
   "metadata": {},
   "source": [
    "## Арифметические операции с массивами"
   ]
  },
  {
   "cell_type": "markdown",
   "id": "d04acbeb-5729-4d3c-b9fd-437850313099",
   "metadata": {},
   "source": [
    "В отличие от списков в питоне, арифметические операции касательно массивов работают иначе. Все ниже перечисленные операции показаны на массивах, но матрицах тоже работают."
   ]
  },
  {
   "cell_type": "markdown",
   "id": "39aaa329-3a3f-4128-a900-76f5f95b435e",
   "metadata": {},
   "source": [
    "**Умножение**"
   ]
  },
  {
   "cell_type": "code",
   "execution_count": 29,
   "id": "77fde930-4ded-4ccd-8f3f-20b5fadcac96",
   "metadata": {},
   "outputs": [
    {
     "data": {
      "text/plain": [
       "[1, 2, 3, 4, 1, 2, 3, 4]"
      ]
     },
     "execution_count": 29,
     "metadata": {},
     "output_type": "execute_result"
    }
   ],
   "source": [
    "lst = [1, 2, 3, 4]\n",
    "lst * 2"
   ]
  },
  {
   "cell_type": "code",
   "execution_count": 30,
   "id": "fd2ed309-b2f3-4ca9-934a-046c9adcbb54",
   "metadata": {},
   "outputs": [
    {
     "data": {
      "text/plain": [
       "array([2, 4, 6, 8])"
      ]
     },
     "execution_count": 30,
     "metadata": {},
     "output_type": "execute_result"
    }
   ],
   "source": [
    "arr = np.array([1, 2, 3, 4])\n",
    "arr * 2"
   ]
  },
  {
   "cell_type": "code",
   "execution_count": 31,
   "id": "7674ae72-e904-4774-9d54-25f0762d6b36",
   "metadata": {},
   "outputs": [
    {
     "data": {
      "text/plain": [
       "array([ 1,  4,  9, 16])"
      ]
     },
     "execution_count": 31,
     "metadata": {},
     "output_type": "execute_result"
    }
   ],
   "source": [
    "arr * arr"
   ]
  },
  {
   "cell_type": "markdown",
   "id": "b20b27e4-49d2-4765-bba8-361df9e70190",
   "metadata": {},
   "source": [
    "**Сложение и вычитание**"
   ]
  },
  {
   "cell_type": "code",
   "execution_count": 32,
   "id": "6de2b434-e7d8-48e0-a9a4-cd861cedfe11",
   "metadata": {},
   "outputs": [
    {
     "data": {
      "text/plain": [
       "array([11, 12, 13, 14])"
      ]
     },
     "execution_count": 32,
     "metadata": {},
     "output_type": "execute_result"
    }
   ],
   "source": [
    "arr + 10"
   ]
  },
  {
   "cell_type": "code",
   "execution_count": 33,
   "id": "52fc0b01-bc77-447a-a603-999c42b8f61a",
   "metadata": {},
   "outputs": [
    {
     "data": {
      "text/plain": [
       "array([9, 8, 7, 6])"
      ]
     },
     "execution_count": 33,
     "metadata": {},
     "output_type": "execute_result"
    }
   ],
   "source": [
    "10 - arr"
   ]
  },
  {
   "cell_type": "markdown",
   "id": "6a33a577-e781-4f4e-b0b4-07d2e0619876",
   "metadata": {},
   "source": [
    "**Деление**"
   ]
  },
  {
   "cell_type": "code",
   "execution_count": 34,
   "id": "ee56bce1-ff44-453b-86a3-4fd225ac5fcc",
   "metadata": {},
   "outputs": [
    {
     "data": {
      "text/plain": [
       "array([0.5, 1. , 1.5, 2. ])"
      ]
     },
     "execution_count": 34,
     "metadata": {},
     "output_type": "execute_result"
    }
   ],
   "source": [
    "arr / 2"
   ]
  },
  {
   "cell_type": "code",
   "execution_count": 35,
   "id": "a03a9025-149f-4d48-96e1-e285f2951dd4",
   "metadata": {},
   "outputs": [
    {
     "data": {
      "text/plain": [
       "array([0, 1, 1, 2])"
      ]
     },
     "execution_count": 35,
     "metadata": {},
     "output_type": "execute_result"
    }
   ],
   "source": [
    "arr // 2"
   ]
  },
  {
   "cell_type": "code",
   "execution_count": 36,
   "id": "cf42baa9-1877-4fbd-84fb-a4620666a9f1",
   "metadata": {},
   "outputs": [
    {
     "data": {
      "text/plain": [
       "array([1, 0, 1, 0])"
      ]
     },
     "execution_count": 36,
     "metadata": {},
     "output_type": "execute_result"
    }
   ],
   "source": [
    "arr % 2"
   ]
  },
  {
   "cell_type": "markdown",
   "id": "881cd0bf-a750-4c47-ae61-e0143547b579",
   "metadata": {},
   "source": [
    "**Возведение в степень**"
   ]
  },
  {
   "cell_type": "code",
   "execution_count": 37,
   "id": "248467a6-211f-4f62-972e-da0228d356bf",
   "metadata": {},
   "outputs": [
    {
     "data": {
      "text/plain": [
       "array([ 1,  8, 27, 64])"
      ]
     },
     "execution_count": 37,
     "metadata": {},
     "output_type": "execute_result"
    }
   ],
   "source": [
    "arr ** 3"
   ]
  },
  {
   "cell_type": "code",
   "execution_count": 38,
   "id": "3eb78e73-fe9a-4bd2-b741-ec9bfd6c0b80",
   "metadata": {},
   "outputs": [
    {
     "data": {
      "text/plain": [
       "array([1.        , 1.41421356, 1.73205081, 2.        ])"
      ]
     },
     "execution_count": 38,
     "metadata": {},
     "output_type": "execute_result"
    }
   ],
   "source": [
    "arr ** 0.5"
   ]
  },
  {
   "cell_type": "markdown",
   "id": "be719de9-e906-41ba-9e82-b624d6593bf8",
   "metadata": {},
   "source": [
    "## Сравнение массивов"
   ]
  },
  {
   "cell_type": "markdown",
   "id": "f22386ff-2462-4248-ab04-b93115c25f29",
   "metadata": {},
   "source": [
    "Numpy сравнивает массивы поэлементно"
   ]
  },
  {
   "cell_type": "code",
   "execution_count": 39,
   "id": "974801ab-631b-4ca2-b162-f4efe1a1f2c0",
   "metadata": {},
   "outputs": [
    {
     "data": {
      "text/plain": [
       "array([False, False,  True])"
      ]
     },
     "execution_count": 39,
     "metadata": {},
     "output_type": "execute_result"
    }
   ],
   "source": [
    "#  Резульаты измерений температуры в 1-й и 2-й дни\n",
    "first_day = np.array([36.6, 36.5, 36.8])\n",
    "second_day = np.array([36.6, 36.6, 36.6])\n",
    "first_day > second_day"
   ]
  },
  {
   "cell_type": "markdown",
   "id": "20ba5c6f-26d0-4f24-b662-45a0d95104df",
   "metadata": {},
   "source": [
    "## Срезы"
   ]
  },
  {
   "cell_type": "markdown",
   "id": "03be0db7-5444-4ce8-bdad-2304c2861c13",
   "metadata": {},
   "source": [
    "Срезы в numpy делаются абсолютно так же, как при работе со списками в python при помощи ```[start:finish:step]```."
   ]
  },
  {
   "cell_type": "code",
   "execution_count": 40,
   "id": "dda5b6d0-cadd-4160-b083-dc5d4b436017",
   "metadata": {},
   "outputs": [
    {
     "data": {
      "text/plain": [
       "(array([0, 1, 2, 3, 4]), array([5, 6, 7, 8, 9]))"
      ]
     },
     "execution_count": 40,
     "metadata": {},
     "output_type": "execute_result"
    }
   ],
   "source": [
    "arr = np.arange(10)\n",
    "first_half = arr[:5]\n",
    "second_half = arr[5:]\n",
    "first_half, second_half"
   ]
  },
  {
   "cell_type": "markdown",
   "id": "5db6b40a-52cd-4276-9fef-059e7f93d0ae",
   "metadata": {},
   "source": [
    "При использовании срезов, если границы выходят за размеров массива, то ошибки ```IndexError``` не будет возникать. Вместо этого будет взят максимально возможный срез в данной ситуации."
   ]
  },
  {
   "cell_type": "code",
   "execution_count": 41,
   "id": "2856238e-36ff-4e37-a193-e65875934817",
   "metadata": {},
   "outputs": [
    {
     "data": {
      "text/plain": [
       "array([0, 1, 2, 3, 4, 5, 6, 7, 8, 9])"
      ]
     },
     "execution_count": 41,
     "metadata": {},
     "output_type": "execute_result"
    }
   ],
   "source": [
    "x = arr[0:200]  # явно выходим за  границы массива\n",
    "x"
   ]
  },
  {
   "cell_type": "markdown",
   "id": "75813061-fc1f-4006-84e9-32cb360a476d",
   "metadata": {},
   "source": [
    "***Важный момент!*** Если мы захотим переприсвоить значение среза, то изменится изначальный массив."
   ]
  },
  {
   "cell_type": "code",
   "execution_count": 42,
   "id": "707d3c12-e1f6-4c11-b9d7-1725bf37ad19",
   "metadata": {},
   "outputs": [
    {
     "data": {
      "text/plain": [
       "array([100,   1,   2,   3,   4,   5, 101,   7,   8,   9])"
      ]
     },
     "execution_count": 42,
     "metadata": {},
     "output_type": "execute_result"
    }
   ],
   "source": [
    "first_half[0] = 100\n",
    "second_half[1] = 101\n",
    "arr"
   ]
  },
  {
   "cell_type": "markdown",
   "id": "21b67fd2-9672-42e6-89dd-fbe054871209",
   "metadata": {},
   "source": [
    "Что же делать, чтобы изначальный массив не изменялся? Читаем следующий блок ;)"
   ]
  },
  {
   "cell_type": "markdown",
   "id": "ff9643ba-19f1-4fd8-91f2-1d8dcb551c9b",
   "metadata": {},
   "source": [
    "## Как создать копию массива? copy()"
   ]
  },
  {
   "cell_type": "markdown",
   "id": "ca709de2-1277-4298-a7ee-0de1680e979d",
   "metadata": {},
   "source": [
    "Чтобы создать копию массива, достаточно использовать функцию **copy()**."
   ]
  },
  {
   "cell_type": "code",
   "execution_count": 43,
   "id": "584765b6-27ce-4967-9dfa-bb54ba535486",
   "metadata": {},
   "outputs": [
    {
     "data": {
      "text/plain": [
       "(array([0, 1, 2, 3, 4]), array([5, 6, 7, 8, 9]))"
      ]
     },
     "execution_count": 43,
     "metadata": {},
     "output_type": "execute_result"
    }
   ],
   "source": [
    "arr = np.arange(10)\n",
    "first_half = arr[:5].copy()\n",
    "second_half = arr[5:].copy()\n",
    "first_half, second_half"
   ]
  },
  {
   "cell_type": "code",
   "execution_count": 44,
   "id": "97e61149-7745-4d08-9a1f-3759c2694005",
   "metadata": {},
   "outputs": [
    {
     "data": {
      "text/plain": [
       "array([0, 1, 2, 3, 4, 5, 6, 7, 8, 9])"
      ]
     },
     "execution_count": 44,
     "metadata": {},
     "output_type": "execute_result"
    }
   ],
   "source": [
    "first_half[0] = 100\n",
    "second_half[1] = 101\n",
    "arr"
   ]
  },
  {
   "cell_type": "markdown",
   "id": "9487a2b9-800a-4b79-aafb-21238e86af48",
   "metadata": {},
   "source": [
    "Мы изменили значение **копии** среза, а не сам срез, поэтому изначальный массив не поменялся."
   ]
  },
  {
   "cell_type": "markdown",
   "id": "211b4333-bcfe-4a1f-8c9c-d8b520ccefe4",
   "metadata": {
    "jp-MarkdownHeadingCollapsed": true
   },
   "source": [
    "# Lesson03"
   ]
  },
  {
   "cell_type": "markdown",
   "id": "4ed2baa6-0b78-4781-a8df-367c32641a5a",
   "metadata": {
    "jp-MarkdownHeadingCollapsed": true
   },
   "source": [
    "## Индексация двумерных массивов"
   ]
  },
  {
   "cell_type": "markdown",
   "id": "be90f09e-ff1f-41b4-8406-936b622ff429",
   "metadata": {},
   "source": [
    "К элементам двумерного массива мы можем обращаться как мы обращаемся к двумерным спискам, но есть более короткая запись. Numpy позволяет в одних квадратных скобках через запятую указать нужные нам индексы."
   ]
  },
  {
   "cell_type": "code",
   "execution_count": 45,
   "id": "e1a77475-0693-4b3f-b9f4-996862eebcf4",
   "metadata": {},
   "outputs": [
    {
     "data": {
      "text/plain": [
       "np.True_"
      ]
     },
     "execution_count": 45,
     "metadata": {},
     "output_type": "execute_result"
    }
   ],
   "source": [
    "arr = np.array([[1, 2, 3], [4, 5, 6]])\n",
    "elem_1 = arr[1][1]\n",
    "elem_2 = arr[1, 1]\n",
    "elem_1 == elem_2"
   ]
  },
  {
   "cell_type": "markdown",
   "id": "ac92ab48-45b8-421b-a84b-6194ac763568",
   "metadata": {},
   "source": [
    "Если вытаскивать строки и отдельные элементы довольно легко, то как нам вытащить столбцы?"
   ]
  },
  {
   "cell_type": "markdown",
   "id": "9925f02f-7379-4af9-8ed6-c5c48b7260df",
   "metadata": {},
   "source": [
    "Для этого мы у всего у массива возьмём по нулевому элементу. То есть двоеточие говорит нам о том, что бы берём все строки, а 0 о том, что у каждой строки мы берём нулевой элемент."
   ]
  },
  {
   "cell_type": "code",
   "execution_count": 46,
   "id": "ec26d97a-461b-444e-b8a5-a9859dca0fdb",
   "metadata": {},
   "outputs": [
    {
     "data": {
      "text/plain": [
       "array([[ 1,  2,  3,  4],\n",
       "       [ 5,  6,  7,  8],\n",
       "       [ 9, 10, 11, 12],\n",
       "       [13, 14, 15, 16],\n",
       "       [17, 18, 19, 20]])"
      ]
     },
     "execution_count": 46,
     "metadata": {},
     "output_type": "execute_result"
    }
   ],
   "source": [
    "arr2 = np.array([[1, 2, 3, 4], [5, 6, 7, 8], [9, 10, 11, 12], [13, 14, 15, 16], [17, 18, 19, 20]])\n",
    "arr2"
   ]
  },
  {
   "cell_type": "code",
   "execution_count": 47,
   "id": "5e78c069-18de-458b-849a-3336384c553e",
   "metadata": {},
   "outputs": [
    {
     "data": {
      "text/plain": [
       "array([ 1,  5,  9, 13, 17])"
      ]
     },
     "execution_count": 47,
     "metadata": {},
     "output_type": "execute_result"
    }
   ],
   "source": [
    "arr2[:, 0]"
   ]
  },
  {
   "cell_type": "markdown",
   "id": "ba1143c4-86ff-4efc-8659-1c813e510dab",
   "metadata": {
    "editable": true,
    "slideshow": {
     "slide_type": ""
    },
    "tags": []
   },
   "source": [
    "Что примечательно, многие из читающих могут подумать, а почему мы не можем написать просто ```arr2[:][0]```?"
   ]
  },
  {
   "cell_type": "code",
   "execution_count": 48,
   "id": "127f5882-ade8-4e34-a58b-bf18365db8c7",
   "metadata": {},
   "outputs": [
    {
     "data": {
      "text/plain": [
       "array([1, 2, 3, 4])"
      ]
     },
     "execution_count": 48,
     "metadata": {},
     "output_type": "execute_result"
    }
   ],
   "source": [
    "arr2[:][0]"
   ]
  },
  {
   "cell_type": "markdown",
   "id": "77ec3b9f-eed7-4103-b875-b29563d95271",
   "metadata": {},
   "source": [
    "Подвох в том, что это особенность синтаксиса numpy. Конструкция ```arr2[:, 0]``` выполняется построчно, а ```arr2[:][0]``` - нет."
   ]
  },
  {
   "cell_type": "code",
   "execution_count": 49,
   "id": "834e6bcd-7327-468e-9b02-4d36e4ee0a90",
   "metadata": {},
   "outputs": [
    {
     "data": {
      "text/plain": [
       "array([[ 2,  3],\n",
       "       [ 6,  7],\n",
       "       [10, 11],\n",
       "       [14, 15],\n",
       "       [18, 19]])"
      ]
     },
     "execution_count": 49,
     "metadata": {},
     "output_type": "execute_result"
    }
   ],
   "source": [
    "arr2[:, 1:3]"
   ]
  },
  {
   "cell_type": "code",
   "execution_count": 50,
   "id": "35eaf245-3acc-474d-9ee6-01cf0c33ae2a",
   "metadata": {},
   "outputs": [
    {
     "data": {
      "text/plain": [
       "array([[ 6,  7],\n",
       "       [10, 11]])"
      ]
     },
     "execution_count": 50,
     "metadata": {},
     "output_type": "execute_result"
    }
   ],
   "source": [
    "arr2[1:3, 1:3]"
   ]
  },
  {
   "cell_type": "markdown",
   "id": "95953d5b-aa30-40fb-837d-883dba2995ed",
   "metadata": {},
   "source": [
    "По примерам выше уже можно было понять, что общий синтаксис выглядить следующим образом:  \n",
    "**```arr[срез по нужным строкам, срез по нужным стобцам]```**"
   ]
  },
  {
   "cell_type": "markdown",
   "id": "3075355b-b80b-4159-bee0-3d9559295586",
   "metadata": {
    "jp-MarkdownHeadingCollapsed": true
   },
   "source": [
    "## Фильтрация с помощью булевой маски"
   ]
  },
  {
   "cell_type": "markdown",
   "id": "b9adf2d1-00d2-42fc-bfe5-4f2005258208",
   "metadata": {},
   "source": [
    "**Булева маска** - это массив из значений True и False. Каждый элемент проходит фильтрацию через булеву маску и распределяется в зависимости от значения маски:  \n",
    "*  Если на той же позиции в маске стоит значение True, элемент добавляется в итоговый массив\n",
    "*  Если на позиции стоит значение False, то элемент не будет включен в итоговый массив"
   ]
  },
  {
   "cell_type": "code",
   "execution_count": 51,
   "id": "e91bd67c-154f-4c4f-b870-3a7f686ace7d",
   "metadata": {},
   "outputs": [
    {
     "data": {
      "text/plain": [
       "array([0, 1, 2, 8, 9])"
      ]
     },
     "execution_count": 51,
     "metadata": {},
     "output_type": "execute_result"
    }
   ],
   "source": [
    "arr = np.arange(10)\n",
    "mask = np.array([True, True, True, False, False, False, False, False, True, True])\n",
    "arr[mask]"
   ]
  },
  {
   "cell_type": "markdown",
   "id": "0403c30b-9be3-4824-b811-a57f8fde8aae",
   "metadata": {},
   "source": [
    "**Создание маски по условию**"
   ]
  },
  {
   "cell_type": "markdown",
   "id": "587fa505-747b-45ce-a4f7-752e2cc865de",
   "metadata": {},
   "source": [
    "Чтобы применить булеву маску к исходному массиву, достаточно подставить ее в качестве индекса."
   ]
  },
  {
   "cell_type": "code",
   "execution_count": 52,
   "id": "75de67b4-43bd-45c5-8b89-dedb44926646",
   "metadata": {},
   "outputs": [
    {
     "data": {
      "text/plain": [
       "array([ True,  True,  True, False, False, False, False, False, False,\n",
       "       False])"
      ]
     },
     "execution_count": 52,
     "metadata": {},
     "output_type": "execute_result"
    }
   ],
   "source": [
    "compare_mask = arr < 3\n",
    "compare_mask"
   ]
  },
  {
   "cell_type": "code",
   "execution_count": 53,
   "id": "b9ef33de-901f-4d30-88ec-7eb39b2aee09",
   "metadata": {},
   "outputs": [
    {
     "data": {
      "text/plain": [
       "array([0, 1, 2])"
      ]
     },
     "execution_count": 53,
     "metadata": {},
     "output_type": "execute_result"
    }
   ],
   "source": [
    "arr[compare_mask]"
   ]
  },
  {
   "cell_type": "markdown",
   "id": "18ead754-d066-481f-89ba-ed22dd890378",
   "metadata": {},
   "source": [
    "Чаще всего мы просто сразу пишем условие в квадратных скобках."
   ]
  },
  {
   "cell_type": "code",
   "execution_count": 54,
   "id": "49c7b5d3-457f-47ea-bb3f-df5774b17ca7",
   "metadata": {},
   "outputs": [
    {
     "data": {
      "text/plain": [
       "array([6, 7, 8, 9])"
      ]
     },
     "execution_count": 54,
     "metadata": {},
     "output_type": "execute_result"
    }
   ],
   "source": [
    "arr[arr > 5]"
   ]
  },
  {
   "cell_type": "markdown",
   "id": "e49b7cbf-badf-4ac7-bcc9-088a7b13d038",
   "metadata": {},
   "source": [
    "**Инверсия булевого массива**"
   ]
  },
  {
   "cell_type": "markdown",
   "id": "c07e45ce-7851-4f99-a176-c20a5457fd0c",
   "metadata": {},
   "source": [
    "Если мы захотим в маске поменять все значения с True на False, а с False на True, то нужно сделать инверсию маски. Для этого существует специальный символ тильда ```~```."
   ]
  },
  {
   "cell_type": "code",
   "execution_count": 55,
   "id": "822bcb8c-3e9c-49dd-bab2-c23c68e8bafa",
   "metadata": {},
   "outputs": [
    {
     "data": {
      "text/plain": [
       "array([False,  True,  True, False])"
      ]
     },
     "execution_count": 55,
     "metadata": {},
     "output_type": "execute_result"
    }
   ],
   "source": [
    "mask = np.array([True, False, False, True])\n",
    "~mask"
   ]
  },
  {
   "cell_type": "markdown",
   "id": "379c30f6-6ce4-4052-9efb-5873b4cbeac8",
   "metadata": {},
   "source": [
    "**Алгебра логики булевых массивов**"
   ]
  },
  {
   "cell_type": "code",
   "execution_count": 56,
   "id": "3fa84751-a97a-484a-b30c-d58ff951074a",
   "metadata": {},
   "outputs": [],
   "source": [
    "mask_1 = np.array([True, False, False])\n",
    "mask_2 = np.array([True, True, False])"
   ]
  },
  {
   "cell_type": "markdown",
   "id": "c88ef9b8-3857-4dfd-8dc2-27b219d77795",
   "metadata": {},
   "source": [
    "*Логическое И(&)*"
   ]
  },
  {
   "cell_type": "code",
   "execution_count": 57,
   "id": "87b25f11-5770-4e4d-8081-73af261d2570",
   "metadata": {},
   "outputs": [
    {
     "data": {
      "text/plain": [
       "array([ True, False, False])"
      ]
     },
     "execution_count": 57,
     "metadata": {},
     "output_type": "execute_result"
    }
   ],
   "source": [
    "mask_1 & mask_2"
   ]
  },
  {
   "cell_type": "markdown",
   "id": "87ff3c1e-7dcb-4b4f-aee6-a25306ce97e0",
   "metadata": {},
   "source": [
    "*Логическое ИЛИ(|)*"
   ]
  },
  {
   "cell_type": "code",
   "execution_count": 58,
   "id": "a707486e-7aa5-457f-9bb8-4959041dbc9f",
   "metadata": {},
   "outputs": [
    {
     "data": {
      "text/plain": [
       "array([ True,  True, False])"
      ]
     },
     "execution_count": 58,
     "metadata": {},
     "output_type": "execute_result"
    }
   ],
   "source": [
    "mask_1 | mask_2"
   ]
  },
  {
   "cell_type": "markdown",
   "id": "659b64e4-ba01-4311-be19-e057c1885508",
   "metadata": {
    "jp-MarkdownHeadingCollapsed": true
   },
   "source": [
    "## Прихотливая индексация"
   ]
  },
  {
   "cell_type": "code",
   "execution_count": 59,
   "id": "281f5c33-b718-4e97-8c1c-93d4ac1b48b2",
   "metadata": {},
   "outputs": [],
   "source": [
    "arr = np.array([\n",
    "               [1, 2, 3, 4],\n",
    "               [5, 6, 7, 8],\n",
    "               [9, 10, 11, 12],\n",
    "               [13, 14, 15, 16],\n",
    "               [17, 18, 19, 20]\n",
    "              ])"
   ]
  },
  {
   "cell_type": "markdown",
   "id": "f5513ea4-433b-4551-a695-47a71fe18b98",
   "metadata": {},
   "source": [
    "Интересное наблюдение: ```arr[[0, 2], :]``` и ```arr[[0, 2]]``` дают одинаковый вывод, порядок строк не важен."
   ]
  },
  {
   "cell_type": "code",
   "execution_count": 60,
   "id": "4ea1ef46-ae73-4cb6-94d8-106f2ada321e",
   "metadata": {},
   "outputs": [
    {
     "data": {
      "text/plain": [
       "array([[ True,  True,  True,  True],\n",
       "       [ True,  True,  True,  True]])"
      ]
     },
     "execution_count": 60,
     "metadata": {},
     "output_type": "execute_result"
    }
   ],
   "source": [
    "arr[[0, 2], :] == arr[[0, 2]]"
   ]
  },
  {
   "cell_type": "code",
   "execution_count": 61,
   "id": "6601faa5-d832-4701-86ff-150f0bddcf22",
   "metadata": {},
   "outputs": [
    {
     "data": {
      "text/plain": [
       "array([[17, 18, 19, 20],\n",
       "       [ 5,  6,  7,  8]])"
      ]
     },
     "execution_count": 61,
     "metadata": {},
     "output_type": "execute_result"
    }
   ],
   "source": [
    "arr[[4, 1]]"
   ]
  },
  {
   "cell_type": "markdown",
   "id": "3e83beb4-727b-4238-9a1c-0dae56376c4f",
   "metadata": {},
   "source": [
    "Аналогично работает и с колонками. Допустим, что мы хотим вытащить 2 и 3 столбец, причем поменять их местами."
   ]
  },
  {
   "cell_type": "code",
   "execution_count": 62,
   "id": "b4abc0cb-ba39-4467-aa61-e1a4ff4fc3dd",
   "metadata": {},
   "outputs": [
    {
     "data": {
      "text/plain": [
       "array([[ 3,  2],\n",
       "       [ 7,  6],\n",
       "       [11, 10],\n",
       "       [15, 14],\n",
       "       [19, 18]])"
      ]
     },
     "execution_count": 62,
     "metadata": {},
     "output_type": "execute_result"
    }
   ],
   "source": [
    "arr[:, [2, 1]]"
   ]
  },
  {
   "cell_type": "markdown",
   "id": "f60bac59-25d6-48b9-8eac-9856b2738d39",
   "metadata": {},
   "source": [
    "**Задача.** На вход функции подается двумерный массив: доработайте функцию так, чтобы она вернула значения, которые лежат на главной диагонали. Значения должны быть в одномерном массиве."
   ]
  },
  {
   "cell_type": "code",
   "execution_count": 63,
   "id": "73588592-f3b2-4176-9d06-17382379d721",
   "metadata": {},
   "outputs": [],
   "source": [
    "def solution(arr):\n",
    "    arr = arr[range(5), range(5)]\n",
    "    return arr"
   ]
  },
  {
   "cell_type": "markdown",
   "id": "55201460-88b0-4625-a20d-01251603c23f",
   "metadata": {
    "jp-MarkdownHeadingCollapsed": true
   },
   "source": [
    "## Преобразование одномерного массива в двумерный и наоборот. reshape()"
   ]
  },
  {
   "cell_type": "markdown",
   "id": "62e25480-1ad2-4c86-92a1-5062c4ddfd24",
   "metadata": {},
   "source": [
    "Чтобы преобразовать одномерный массив в двумерный существует функция **reshape()**. В качестве аргумента ей передаётся кортеж ```(m, n)```, где m - количество строк, а n - количество столбцов."
   ]
  },
  {
   "cell_type": "code",
   "execution_count": 64,
   "id": "edc6bcdc-6809-4e2d-8f7a-5e4f0ed287df",
   "metadata": {},
   "outputs": [
    {
     "data": {
      "text/plain": [
       "array([[ 0,  1,  2,  3,  4,  5,  6,  7,  8,  9],\n",
       "       [10, 11, 12, 13, 14, 15, 16, 17, 18, 19],\n",
       "       [20, 21, 22, 23, 24, 25, 26, 27, 28, 29],\n",
       "       [30, 31, 32, 33, 34, 35, 36, 37, 38, 39],\n",
       "       [40, 41, 42, 43, 44, 45, 46, 47, 48, 49]])"
      ]
     },
     "execution_count": 64,
     "metadata": {},
     "output_type": "execute_result"
    }
   ],
   "source": [
    "arr = np.arange(50)\n",
    "arr.reshape((5, 10))"
   ]
  },
  {
   "cell_type": "markdown",
   "id": "88ea377d-90a6-4bdd-872d-e36ce487cd6a",
   "metadata": {},
   "source": [
    "Чтобы преобразовать двумерный массив в одномерный, в качестве аргумента в reshape() передаётся -1."
   ]
  },
  {
   "cell_type": "code",
   "execution_count": 66,
   "id": "501fc8d2-2271-4a58-bbb5-6ffebfd43256",
   "metadata": {},
   "outputs": [
    {
     "data": {
      "text/plain": [
       "array([ 0,  1,  2,  3,  4,  5,  6,  7,  8,  9, 10, 11, 12, 13, 14, 15, 16,\n",
       "       17, 18, 19, 20, 21, 22, 23, 24, 25, 26, 27, 28, 29, 30, 31, 32, 33,\n",
       "       34, 35, 36, 37, 38, 39, 40, 41, 42, 43, 44, 45, 46, 47, 48, 49])"
      ]
     },
     "execution_count": 66,
     "metadata": {},
     "output_type": "execute_result"
    }
   ],
   "source": [
    "arr.reshape(-1)"
   ]
  },
  {
   "cell_type": "markdown",
   "id": "101ff220-b1a1-4bc5-9716-ebcdc0424c32",
   "metadata": {},
   "source": [
    "*Функция reshape() именяет исходный массив, а не делает его копию.*"
   ]
  },
  {
   "cell_type": "markdown",
   "id": "90aa738b-96c5-4b55-8a8e-bad7dfdb17e1",
   "metadata": {},
   "source": [
    "# Lesson04"
   ]
  },
  {
   "cell_type": "code",
   "execution_count": null,
   "id": "d4c3f45e-770f-46d1-932d-0f8f642150a2",
   "metadata": {},
   "outputs": [],
   "source": []
  }
 ],
 "metadata": {
  "kernelspec": {
   "display_name": "Python 3 (ipykernel)",
   "language": "python",
   "name": "python3"
  },
  "language_info": {
   "codemirror_mode": {
    "name": "ipython",
    "version": 3
   },
   "file_extension": ".py",
   "mimetype": "text/x-python",
   "name": "python",
   "nbconvert_exporter": "python",
   "pygments_lexer": "ipython3",
   "version": "3.12.8"
  }
 },
 "nbformat": 4,
 "nbformat_minor": 5
}
