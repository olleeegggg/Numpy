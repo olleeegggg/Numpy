{
 "cells": [
  {
   "cell_type": "markdown",
   "id": "fe1da573-bf90-48e6-8a12-b86c4777d1b0",
   "metadata": {},
   "source": [
    "# It's my Jupyter Notebook about NumPy"
   ]
  },
  {
   "cell_type": "markdown",
   "id": "58c991c4-a232-4315-99ce-1af5bce94178",
   "metadata": {
    "jp-MarkdownHeadingCollapsed": true
   },
   "source": [
    "## Lesson01"
   ]
  },
  {
   "cell_type": "markdown",
   "id": "def79054-4380-4fd3-9f2a-3a6814dac66f",
   "metadata": {},
   "source": [
    "**Документация**: https://numpy.org/doc/stable/user/index.html#user"
   ]
  },
  {
   "cell_type": "markdown",
   "id": "29e8a30e-e846-4176-93b8-78ba7d576507",
   "metadata": {
    "jp-MarkdownHeadingCollapsed": true
   },
   "source": [
    "### Импорт библиотеки"
   ]
  },
  {
   "cell_type": "code",
   "execution_count": 1,
   "id": "b90038b9-dc93-4259-9246-a71f6c70afe4",
   "metadata": {},
   "outputs": [],
   "source": [
    "import numpy as np"
   ]
  },
  {
   "cell_type": "markdown",
   "id": "41487c61-9f01-4a63-a544-8004b3a86d21",
   "metadata": {
    "jp-MarkdownHeadingCollapsed": true
   },
   "source": [
    "### Создание массива/двумерного массива"
   ]
  },
  {
   "cell_type": "markdown",
   "id": "3aa28ef9-e775-4c64-9704-08e344203525",
   "metadata": {},
   "source": [
    "**Создание одномерного массива**"
   ]
  },
  {
   "cell_type": "code",
   "execution_count": 2,
   "id": "8881f3eb-5029-4d3b-9381-392659249e1a",
   "metadata": {},
   "outputs": [
    {
     "data": {
      "text/plain": [
       "array([1, 2, 3, 4, 5])"
      ]
     },
     "execution_count": 2,
     "metadata": {},
     "output_type": "execute_result"
    }
   ],
   "source": [
    "np.array([1, 2, 3, 4, 5])"
   ]
  },
  {
   "cell_type": "code",
   "execution_count": 3,
   "id": "9cd3af16-11e8-4ae3-a98f-1b18e9a09c87",
   "metadata": {},
   "outputs": [
    {
     "data": {
      "text/plain": [
       "array([0, 1, 2, 3, 4, 5, 6, 7, 8, 9])"
      ]
     },
     "execution_count": 3,
     "metadata": {},
     "output_type": "execute_result"
    }
   ],
   "source": [
    "np.array(range(10))"
   ]
  },
  {
   "cell_type": "markdown",
   "id": "8fca29c8-6a2e-4fbc-a7ce-94fe40e635c6",
   "metadata": {},
   "source": [
    "Одно из самых важных свойств массива: все элементы в нём должны быть **одного типа**."
   ]
  },
  {
   "cell_type": "code",
   "execution_count": 4,
   "id": "3d7ccda0-a5d9-4609-b591-b28eab3e83b5",
   "metadata": {},
   "outputs": [
    {
     "data": {
      "text/plain": [
       "array([1.2, 3.4, 5. , 6. , 7. , 8. , 9. ])"
      ]
     },
     "execution_count": 4,
     "metadata": {},
     "output_type": "execute_result"
    }
   ],
   "source": [
    "np.array([1.2, 3.4, 5, 6, 7, 8, 9])"
   ]
  },
  {
   "cell_type": "code",
   "execution_count": 5,
   "id": "19dde1a9-86eb-410c-96cd-5d0bee2ea88d",
   "metadata": {},
   "outputs": [
    {
     "data": {
      "text/plain": [
       "array(['11', '234.5', 'hello'], dtype='<U32')"
      ]
     },
     "execution_count": 5,
     "metadata": {},
     "output_type": "execute_result"
    }
   ],
   "source": [
    "np.array([11, 234.5, \"hello\"])"
   ]
  },
  {
   "cell_type": "markdown",
   "id": "8ebe788f-fca4-43d1-bce4-b1f5e45a5d43",
   "metadata": {},
   "source": [
    "```np.fromiter()``` — это функция, которая создаёт массив из итерируемого объекта (итератора), не создавая сначала промежуточный список. Это полезно для эффективного использования памяти, особенно при работе с большими данными.  \n",
    "Синтаксис: ```np.fromiter(iterable, dtype, count=-1)```  \n",
    "* ```iterable``` — любой итерируемый объект (например, генератор или итератор).\n",
    "* ```dtype``` — тип данных элементов массива (например, np.int32, np.float64).\n",
    "* ```count``` (необязательный) — количество элементов для чтения (по умолчанию -1, что означает чтение всех доступных)."
   ]
  },
  {
   "cell_type": "code",
   "execution_count": 6,
   "id": "ec8a648c-651b-4e63-80e1-604313e0e4ab",
   "metadata": {},
   "outputs": [
    {
     "data": {
      "text/plain": [
       "array([1, 2, 3, 4], dtype=int8)"
      ]
     },
     "execution_count": 6,
     "metadata": {},
     "output_type": "execute_result"
    }
   ],
   "source": [
    "np.fromiter(map(int, [\"1\", \"2\", \"3\", \"4\"]), dtype=np.int8)"
   ]
  },
  {
   "cell_type": "markdown",
   "id": "702bb9c6-db41-4f0b-99f6-509115cd41c2",
   "metadata": {},
   "source": [
    "**Формируем массив из строки чисел, указывая разделитель**"
   ]
  },
  {
   "cell_type": "code",
   "execution_count": 7,
   "id": "08d3a6ca-81e9-45b2-9330-7ade1c48cda8",
   "metadata": {},
   "outputs": [
    {
     "data": {
      "text/plain": [
       "array([  1.,   3.,   4.,   5., 120.])"
      ]
     },
     "execution_count": 7,
     "metadata": {},
     "output_type": "execute_result"
    }
   ],
   "source": [
    "np.fromstring(\"1, 3, 4, 5, 120\", sep=\",\")"
   ]
  },
  {
   "cell_type": "markdown",
   "id": "f5de1191-ab9c-4bda-82cb-98fe47322b50",
   "metadata": {},
   "source": [
    "**Каждый элемент элемент массива вычисляется по функции**"
   ]
  },
  {
   "cell_type": "code",
   "execution_count": 8,
   "id": "e62bf2d0-2c7c-483c-b570-755f059ee9e1",
   "metadata": {},
   "outputs": [
    {
     "data": {
      "text/plain": [
       "array([[ 0,  1,  4,  9, 16],\n",
       "       [ 1,  2,  5, 10, 17],\n",
       "       [ 4,  5,  8, 13, 20]], dtype=int8)"
      ]
     },
     "execution_count": 8,
     "metadata": {},
     "output_type": "execute_result"
    }
   ],
   "source": [
    "np.fromfunction(lambda x, y: x**2 + y**2, (3, 5), dtype=np.int8)"
   ]
  },
  {
   "cell_type": "markdown",
   "id": "74fb26aa-e062-4149-9752-338b2b5c6e45",
   "metadata": {},
   "source": [
    "**Создание двумерного массива**"
   ]
  },
  {
   "cell_type": "code",
   "execution_count": 9,
   "id": "f08b8fcf-026a-45cf-aeee-dc53412e02f7",
   "metadata": {},
   "outputs": [
    {
     "data": {
      "text/plain": [
       "array([[1. , 2. , 3. ],\n",
       "       [4.9, 5. , 6. ]])"
      ]
     },
     "execution_count": 9,
     "metadata": {},
     "output_type": "execute_result"
    }
   ],
   "source": [
    "np.array([[1, 2, 3], [4.9, 5, 6]])"
   ]
  },
  {
   "cell_type": "markdown",
   "id": "5cf2dea3-7ec7-4d88-9caf-9c04917d705e",
   "metadata": {
    "jp-MarkdownHeadingCollapsed": true
   },
   "source": [
    "### Как узнать тип данных в массиве? dtype"
   ]
  },
  {
   "cell_type": "code",
   "execution_count": 10,
   "id": "662e1a75-101d-453e-8f49-08e588562079",
   "metadata": {},
   "outputs": [
    {
     "data": {
      "text/plain": [
       "dtype('int64')"
      ]
     },
     "execution_count": 10,
     "metadata": {},
     "output_type": "execute_result"
    }
   ],
   "source": [
    "np.array([1, 2, 3, 4, 5]).dtype"
   ]
  },
  {
   "cell_type": "code",
   "execution_count": 11,
   "id": "be6ddd2f-3aa5-4f2b-8e11-58b65719227d",
   "metadata": {},
   "outputs": [
    {
     "data": {
      "text/plain": [
       "dtype('float64')"
      ]
     },
     "execution_count": 11,
     "metadata": {},
     "output_type": "execute_result"
    }
   ],
   "source": [
    "np.array([1.2, 3.4, 5, 6, 7, 8, 9]).dtype"
   ]
  },
  {
   "cell_type": "markdown",
   "id": "4e63c71e-54fb-4472-bda3-13147a74860a",
   "metadata": {
    "jp-MarkdownHeadingCollapsed": true
   },
   "source": [
    "### Как измерить длину массива? len() shape ndim"
   ]
  },
  {
   "cell_type": "markdown",
   "id": "76f1a012-f505-4b3d-aff3-51f4ff15ee82",
   "metadata": {},
   "source": [
    "В случае с одномерным массивом всё понятно, функция ```len()``` выведет количество элементов в нём."
   ]
  },
  {
   "cell_type": "code",
   "execution_count": 12,
   "id": "3444fca5-3ff6-4fe9-b776-3854745cff38",
   "metadata": {},
   "outputs": [
    {
     "data": {
      "text/plain": [
       "5"
      ]
     },
     "execution_count": 12,
     "metadata": {},
     "output_type": "execute_result"
    }
   ],
   "source": [
    "arr = np.array([1, 2, 3, 4, 5])\n",
    "len(arr)"
   ]
  },
  {
   "cell_type": "markdown",
   "id": "8990ddc6-efa8-4996-bdb3-9c7353d4c9c6",
   "metadata": {},
   "source": [
    "Функция ```len()``` для двумерного массива выведет нам количество вложенных в него элементов. В нашем случае в ```arr2``` вложено 2 элемента, которые в свою очередь также являются массивами."
   ]
  },
  {
   "cell_type": "code",
   "execution_count": 13,
   "id": "9ef244a9-42be-4f71-9199-6febd3ba2fe6",
   "metadata": {},
   "outputs": [
    {
     "data": {
      "text/plain": [
       "2"
      ]
     },
     "execution_count": 13,
     "metadata": {},
     "output_type": "execute_result"
    }
   ],
   "source": [
    "arr2 = np.array([[1, 2, 3], [4, 5, 6]])\n",
    "len(arr2)"
   ]
  },
  {
   "cell_type": "markdown",
   "id": "8d0a5c45-e0a9-42ba-a43c-368e129545bd",
   "metadata": {},
   "source": [
    "А если мы хотим узнать больше про наш двумерный массив? С этим нам поможет метод ```shape```. Он возвращает кортеж, где первый элемент отвечает за количество вложенных массивов, а второй за количество элементов в каждом из них."
   ]
  },
  {
   "cell_type": "code",
   "execution_count": 14,
   "id": "e8449ebf-0da6-463a-998b-78af4d819dd0",
   "metadata": {},
   "outputs": [
    {
     "data": {
      "text/plain": [
       "(2, 3)"
      ]
     },
     "execution_count": 14,
     "metadata": {},
     "output_type": "execute_result"
    }
   ],
   "source": [
    "arr2 = np.array([[1, 2, 3], [4, 5, 6]])\n",
    "arr2.shape"
   ]
  },
  {
   "cell_type": "markdown",
   "id": "8b7de04a-801e-45c0-a907-e7ad45e84197",
   "metadata": {},
   "source": [
    "Хотя на самом деле ```shape``` показывает, насколько глубок массив и сколько элементов на каждом из уровней. Пусть ```n``` - длина кортежа, получаемого на выходе при использовании метода ```shape```. Тогда мы можем говорить о том, что массив будет ```n```-мерным."
   ]
  },
  {
   "cell_type": "code",
   "execution_count": 15,
   "id": "f7e56294-84c7-4ae5-9846-e604648d16f3",
   "metadata": {},
   "outputs": [
    {
     "data": {
      "text/plain": [
       "(3, 2, 1)"
      ]
     },
     "execution_count": 15,
     "metadata": {},
     "output_type": "execute_result"
    }
   ],
   "source": [
    "arr3 = np.array([[[1], [2]], [[3], [4]], [[5], [6]]])\n",
    "arr3.shape"
   ]
  },
  {
   "cell_type": "code",
   "execution_count": 16,
   "id": "65e99420-7fb9-48f7-b53a-d30cc7165545",
   "metadata": {},
   "outputs": [
    {
     "data": {
      "text/plain": [
       "(3, 2, 3, 1)"
      ]
     },
     "execution_count": 16,
     "metadata": {},
     "output_type": "execute_result"
    }
   ],
   "source": [
    "arr4 = np.array([[[[1], [2], [3]], [[4], [5], [6]]], [[[7], [8], [9]], [[10], [11], [12]]], [[[13], [14], [15]], [[16], [17], [18]]]])\n",
    "arr4.shape"
   ]
  },
  {
   "cell_type": "markdown",
   "id": "51e21989-7e04-4dbf-862d-1d5b989ec7ec",
   "metadata": {},
   "source": [
    "Чтобы не исхищряться и не смотреть на длину кортежа, получаемого при использовании метода ```shape``` лучше использовать метод ```ndim```."
   ]
  },
  {
   "cell_type": "code",
   "execution_count": 17,
   "id": "172afaf6-fb2a-433f-9b95-1714d456cb6c",
   "metadata": {},
   "outputs": [
    {
     "data": {
      "text/plain": [
       "4"
      ]
     },
     "execution_count": 17,
     "metadata": {},
     "output_type": "execute_result"
    }
   ],
   "source": [
    "arr4 = np.array([[[[1], [2], [3]], [[4], [5], [6]]], [[[7], [8], [9]], [[10], [11], [12]]], [[[13], [14], [15]], [[16], [17], [18]]]])\n",
    "arr4.ndim"
   ]
  },
  {
   "cell_type": "code",
   "execution_count": 18,
   "id": "dec35484-da01-4263-a7b0-7b8daae69701",
   "metadata": {},
   "outputs": [
    {
     "data": {
      "text/plain": [
       "True"
      ]
     },
     "execution_count": 18,
     "metadata": {},
     "output_type": "execute_result"
    }
   ],
   "source": [
    "arr4.ndim == len(arr4.shape)"
   ]
  },
  {
   "cell_type": "markdown",
   "id": "6850b797-08c0-4e86-ac16-bedf7ec6d320",
   "metadata": {
    "jp-MarkdownHeadingCollapsed": true
   },
   "source": [
    "### Как заполнить массив/матрицу произвольными значениями? full()"
   ]
  },
  {
   "cell_type": "markdown",
   "id": "746bc309-8dbc-4631-8405-1c6d85b7b2c8",
   "metadata": {},
   "source": [
    "Прочитав предыдущий пункт, у многих закономерно возник вопрос: \"*А как заполнить массив произвольными значениями?*\""
   ]
  },
  {
   "cell_type": "markdown",
   "id": "0946c9e2-ad62-494c-8f29-b39630fcdc2e",
   "metadata": {},
   "source": [
    "Легко, используем функцию **full()**. В качестве первого аргумента передадим размер, а в качестве второго - то, чем будем заполнять массив."
   ]
  },
  {
   "cell_type": "code",
   "execution_count": 23,
   "id": "1b80359c-c067-4c8e-95f9-e40dc68ddaee",
   "metadata": {},
   "outputs": [
    {
     "data": {
      "text/plain": [
       "array([5, 5, 5, 5, 5, 5, 5, 5, 5, 5])"
      ]
     },
     "execution_count": 23,
     "metadata": {},
     "output_type": "execute_result"
    }
   ],
   "source": [
    "array_full_of_fives = np.full(10, 5)\n",
    "array_full_of_fives"
   ]
  },
  {
   "cell_type": "markdown",
   "id": "51b6d03a-3edc-4562-8bf4-c0b2e3adfab6",
   "metadata": {},
   "source": [
    "В случае, если мы захотим создать матрицу, то в качестве первого аргумента передадим кортеж ```(m, n)```, где m - количество строк, а n - количество столбцов."
   ]
  },
  {
   "cell_type": "code",
   "execution_count": 24,
   "id": "a1ae6d26-49db-43bf-a7c0-8d92a4f48df1",
   "metadata": {},
   "outputs": [
    {
     "data": {
      "text/plain": [
       "array([[9, 9, 9, 9, 9],\n",
       "       [9, 9, 9, 9, 9],\n",
       "       [9, 9, 9, 9, 9],\n",
       "       [9, 9, 9, 9, 9]])"
      ]
     },
     "execution_count": 24,
     "metadata": {},
     "output_type": "execute_result"
    }
   ],
   "source": [
    "matrix_full_of_nines = np.full((4, 5), 9)  # 4 строки и 5 столбцов\n",
    "matrix_full_of_nines"
   ]
  },
  {
   "cell_type": "markdown",
   "id": "1aaca4a2-d997-4d13-b629-cfca641acb14",
   "metadata": {
    "jp-MarkdownHeadingCollapsed": true
   },
   "source": [
    "### Как создать массив, который будет заполнен значениями от 0 до N? arange()"
   ]
  },
  {
   "cell_type": "markdown",
   "id": "1c2e9564-2ce4-425c-9977-2da31796ff72",
   "metadata": {},
   "source": [
    "Функция **arange()**. По сути тот же range() только для массивов в numpy."
   ]
  },
  {
   "cell_type": "code",
   "execution_count": 25,
   "id": "a2796ece-ada9-47c3-85f2-0ce296a320fc",
   "metadata": {},
   "outputs": [
    {
     "data": {
      "text/plain": [
       "array([0, 1, 2, 3, 4, 5, 6, 7, 8, 9])"
      ]
     },
     "execution_count": 25,
     "metadata": {},
     "output_type": "execute_result"
    }
   ],
   "source": [
    "np.arange(10)"
   ]
  },
  {
   "cell_type": "markdown",
   "id": "1ea2d254-b1c1-4834-b6af-f28fa8c798d3",
   "metadata": {},
   "source": [
    "Точно так же, как и в range(), в **arange()** можно задавать ```(start, finish, step)```."
   ]
  },
  {
   "cell_type": "code",
   "execution_count": 26,
   "id": "5a8dd054-a338-4743-9ded-5c537ea54e05",
   "metadata": {},
   "outputs": [
    {
     "data": {
      "text/plain": [
       "array([0, 2, 4, 6, 8])"
      ]
     },
     "execution_count": 26,
     "metadata": {},
     "output_type": "execute_result"
    }
   ],
   "source": [
    "np.arange(0, 10, 2)"
   ]
  },
  {
   "cell_type": "markdown",
   "id": "622c6664-9ea2-4b32-8624-fe05791b07db",
   "metadata": {
    "jp-MarkdownHeadingCollapsed": true
   },
   "source": [
    "## Lesson02"
   ]
  },
  {
   "cell_type": "markdown",
   "id": "689f300c-613c-4084-9cef-5f0253065781",
   "metadata": {
    "jp-MarkdownHeadingCollapsed": true
   },
   "source": [
    "### Как задать тип данных? dtype astype()"
   ]
  },
  {
   "cell_type": "code",
   "execution_count": 27,
   "id": "819b5bdc-3304-4464-adbb-08cfc3f424f4",
   "metadata": {},
   "outputs": [
    {
     "data": {
      "text/plain": [
       "array([1, 2, 3, 4, 5])"
      ]
     },
     "execution_count": 27,
     "metadata": {},
     "output_type": "execute_result"
    }
   ],
   "source": [
    "arr = np.array([1, 2, 3, 4, 5])\n",
    "arr"
   ]
  },
  {
   "cell_type": "markdown",
   "id": "23c9be03-a8bf-4a62-b726-5dc76d280ad1",
   "metadata": {},
   "source": [
    "А что если я хочу, чтобы у меня были не целые числа, а с плавающей запятой? Тогда нужно дописать параметр **dtype=**."
   ]
  },
  {
   "cell_type": "code",
   "execution_count": 28,
   "id": "0e16bf78-bc70-4675-b920-58109a9a9070",
   "metadata": {},
   "outputs": [
    {
     "data": {
      "text/plain": [
       "array([1., 2., 3., 4., 5.])"
      ]
     },
     "execution_count": 28,
     "metadata": {},
     "output_type": "execute_result"
    }
   ],
   "source": [
    "arr = np.array([1, 2, 3, 4, 5], dtype=np.float64)\n",
    "arr"
   ]
  },
  {
   "cell_type": "markdown",
   "id": "1aa6da67-304f-43d3-860d-fd314ea04eaa",
   "metadata": {},
   "source": [
    "А что если у нас уже есть массив, и мы хотим, чтобы все значения в нём снова стали *int*?\n",
    "Для этого существует функция **astype()**. В аргумент функции передаётся тот тип данных, который мы желаем."
   ]
  },
  {
   "cell_type": "code",
   "execution_count": 29,
   "id": "2409d96b-1481-47f4-827e-5b3313694585",
   "metadata": {},
   "outputs": [
    {
     "data": {
      "text/plain": [
       "array([1, 2, 3, 4, 5], dtype=int32)"
      ]
     },
     "execution_count": 29,
     "metadata": {},
     "output_type": "execute_result"
    }
   ],
   "source": [
    "arr = arr.astype(np.int32)\n",
    "arr"
   ]
  },
  {
   "cell_type": "markdown",
   "id": "e383fea1-5f39-4264-ae44-87da033f9735",
   "metadata": {},
   "source": [
    "<b>*Важное замечание!*</b> Сама по себе функция *astype()* не меняет значение массива, а возвращает его копию с изменённым типом данных, поэтому нужно куда-то сохранять копию массива."
   ]
  },
  {
   "cell_type": "code",
   "execution_count": 30,
   "id": "a7e6f584-3c39-44b1-a0f6-90816570ba6e",
   "metadata": {},
   "outputs": [
    {
     "data": {
      "text/plain": [
       "array([1, 2, 3, 4, 5], dtype=int32)"
      ]
     },
     "execution_count": 30,
     "metadata": {},
     "output_type": "execute_result"
    }
   ],
   "source": [
    "arr.astype(np.float64)\n",
    "arr"
   ]
  },
  {
   "cell_type": "markdown",
   "id": "8ed78c84-7c93-445f-a89c-349b6eef1316",
   "metadata": {},
   "source": [
    "Если вы поменяете тип данных с **float_ на int_**, то numpy отрежет десятичную часть от каждого числа и оставит только целую. В целом, нормальное и типичное поведение для питона."
   ]
  },
  {
   "cell_type": "code",
   "execution_count": 31,
   "id": "e250999a-1abd-4157-998a-4150d91e5d66",
   "metadata": {},
   "outputs": [
    {
     "data": {
      "text/plain": [
       "array([1.01, 9.99, 4.5 , 6.45, 7.8 ])"
      ]
     },
     "execution_count": 31,
     "metadata": {},
     "output_type": "execute_result"
    }
   ],
   "source": [
    "arr = np.array([1.01, 9.99, 4.5, 6.45, 7.8,])\n",
    "arr"
   ]
  },
  {
   "cell_type": "code",
   "execution_count": 32,
   "id": "c83fd805-8973-40b9-ab75-883caff8852d",
   "metadata": {},
   "outputs": [
    {
     "data": {
      "text/plain": [
       "array([1, 9, 4, 6, 7], dtype=int32)"
      ]
     },
     "execution_count": 32,
     "metadata": {},
     "output_type": "execute_result"
    }
   ],
   "source": [
    "arr = arr.astype(np.int32)\n",
    "arr"
   ]
  },
  {
   "cell_type": "markdown",
   "id": "977867ee-89d3-4b8b-b38f-dd4e6bbf8860",
   "metadata": {
    "jp-MarkdownHeadingCollapsed": true
   },
   "source": [
    "### Математические операции с массивами"
   ]
  },
  {
   "cell_type": "markdown",
   "id": "d04acbeb-5729-4d3c-b9fd-437850313099",
   "metadata": {},
   "source": [
    "В отличие от списков в питоне, математические операции касательно массивов работают иначе. Все ниже перечисленные операции показаны на массивах, но матрицах тоже работают."
   ]
  },
  {
   "cell_type": "markdown",
   "id": "39aaa329-3a3f-4128-a900-76f5f95b435e",
   "metadata": {},
   "source": [
    "**Умножение**"
   ]
  },
  {
   "cell_type": "code",
   "execution_count": 33,
   "id": "77fde930-4ded-4ccd-8f3f-20b5fadcac96",
   "metadata": {},
   "outputs": [
    {
     "data": {
      "text/plain": [
       "[1, 2, 3, 4, 1, 2, 3, 4]"
      ]
     },
     "execution_count": 33,
     "metadata": {},
     "output_type": "execute_result"
    }
   ],
   "source": [
    "lst = [1, 2, 3, 4]\n",
    "lst * 2"
   ]
  },
  {
   "cell_type": "code",
   "execution_count": 34,
   "id": "fd2ed309-b2f3-4ca9-934a-046c9adcbb54",
   "metadata": {},
   "outputs": [
    {
     "data": {
      "text/plain": [
       "array([2, 4, 6, 8])"
      ]
     },
     "execution_count": 34,
     "metadata": {},
     "output_type": "execute_result"
    }
   ],
   "source": [
    "arr = np.array([1, 2, 3, 4])\n",
    "arr * 2"
   ]
  },
  {
   "cell_type": "code",
   "execution_count": 35,
   "id": "7674ae72-e904-4774-9d54-25f0762d6b36",
   "metadata": {},
   "outputs": [
    {
     "data": {
      "text/plain": [
       "array([ 1,  4,  9, 16])"
      ]
     },
     "execution_count": 35,
     "metadata": {},
     "output_type": "execute_result"
    }
   ],
   "source": [
    "arr * arr"
   ]
  },
  {
   "cell_type": "markdown",
   "id": "b20b27e4-49d2-4765-bba8-361df9e70190",
   "metadata": {},
   "source": [
    "**Сложение и вычитание**"
   ]
  },
  {
   "cell_type": "code",
   "execution_count": 36,
   "id": "6de2b434-e7d8-48e0-a9a4-cd861cedfe11",
   "metadata": {},
   "outputs": [
    {
     "data": {
      "text/plain": [
       "array([11, 12, 13, 14])"
      ]
     },
     "execution_count": 36,
     "metadata": {},
     "output_type": "execute_result"
    }
   ],
   "source": [
    "arr + 10"
   ]
  },
  {
   "cell_type": "code",
   "execution_count": 37,
   "id": "52fc0b01-bc77-447a-a603-999c42b8f61a",
   "metadata": {},
   "outputs": [
    {
     "data": {
      "text/plain": [
       "array([9, 8, 7, 6])"
      ]
     },
     "execution_count": 37,
     "metadata": {},
     "output_type": "execute_result"
    }
   ],
   "source": [
    "10 - arr"
   ]
  },
  {
   "cell_type": "markdown",
   "id": "6a33a577-e781-4f4e-b0b4-07d2e0619876",
   "metadata": {},
   "source": [
    "**Деление**"
   ]
  },
  {
   "cell_type": "code",
   "execution_count": 38,
   "id": "ee56bce1-ff44-453b-86a3-4fd225ac5fcc",
   "metadata": {},
   "outputs": [
    {
     "data": {
      "text/plain": [
       "array([0.5, 1. , 1.5, 2. ])"
      ]
     },
     "execution_count": 38,
     "metadata": {},
     "output_type": "execute_result"
    }
   ],
   "source": [
    "arr / 2"
   ]
  },
  {
   "cell_type": "code",
   "execution_count": 39,
   "id": "a03a9025-149f-4d48-96e1-e285f2951dd4",
   "metadata": {},
   "outputs": [
    {
     "data": {
      "text/plain": [
       "array([0, 1, 1, 2])"
      ]
     },
     "execution_count": 39,
     "metadata": {},
     "output_type": "execute_result"
    }
   ],
   "source": [
    "arr // 2"
   ]
  },
  {
   "cell_type": "code",
   "execution_count": 40,
   "id": "cf42baa9-1877-4fbd-84fb-a4620666a9f1",
   "metadata": {},
   "outputs": [
    {
     "data": {
      "text/plain": [
       "array([1, 0, 1, 0])"
      ]
     },
     "execution_count": 40,
     "metadata": {},
     "output_type": "execute_result"
    }
   ],
   "source": [
    "arr % 2"
   ]
  },
  {
   "cell_type": "markdown",
   "id": "bf133d0d-c28f-482c-8051-037224a65ab9",
   "metadata": {},
   "source": [
    "При делении на ноль вылезает ```inf```."
   ]
  },
  {
   "cell_type": "code",
   "execution_count": 41,
   "id": "5ffdb88d-70f2-4deb-9108-a5034faa95b9",
   "metadata": {},
   "outputs": [
    {
     "name": "stderr",
     "output_type": "stream",
     "text": [
      "C:\\Users\\OL\\AppData\\Local\\Temp\\ipykernel_16952\\254973887.py:3: RuntimeWarning: divide by zero encountered in divide\n",
      "  m3 = m1 / m2\n"
     ]
    },
    {
     "data": {
      "text/plain": [
       "array([inf, 0.5])"
      ]
     },
     "execution_count": 41,
     "metadata": {},
     "output_type": "execute_result"
    }
   ],
   "source": [
    "m1 = np.array([1, 2])\n",
    "m2 = np.array([0, 4])\n",
    "m3 = m1 / m2\n",
    "m3"
   ]
  },
  {
   "cell_type": "markdown",
   "id": "37e339c4-f24d-40cf-b59e-419faa5e3350",
   "metadata": {},
   "source": [
    "Чтобы выявлять такие моменты, существует функция **isinf()**."
   ]
  },
  {
   "cell_type": "code",
   "execution_count": 42,
   "id": "97b26b94-0734-4164-b77d-96c6d9b8b93d",
   "metadata": {},
   "outputs": [
    {
     "data": {
      "text/plain": [
       "array([ True, False])"
      ]
     },
     "execution_count": 42,
     "metadata": {},
     "output_type": "execute_result"
    }
   ],
   "source": [
    "np.isinf(m3)"
   ]
  },
  {
   "cell_type": "markdown",
   "id": "881cd0bf-a750-4c47-ae61-e0143547b579",
   "metadata": {},
   "source": [
    "**Возведение в степень**"
   ]
  },
  {
   "cell_type": "code",
   "execution_count": 43,
   "id": "248467a6-211f-4f62-972e-da0228d356bf",
   "metadata": {},
   "outputs": [
    {
     "data": {
      "text/plain": [
       "array([ 1,  8, 27, 64])"
      ]
     },
     "execution_count": 43,
     "metadata": {},
     "output_type": "execute_result"
    }
   ],
   "source": [
    "arr ** 3"
   ]
  },
  {
   "cell_type": "code",
   "execution_count": 44,
   "id": "3eb78e73-fe9a-4bd2-b741-ec9bfd6c0b80",
   "metadata": {},
   "outputs": [
    {
     "data": {
      "text/plain": [
       "array([1.        , 1.41421356, 1.73205081, 2.        ])"
      ]
     },
     "execution_count": 44,
     "metadata": {},
     "output_type": "execute_result"
    }
   ],
   "source": [
    "arr ** 0.5"
   ]
  },
  {
   "cell_type": "markdown",
   "id": "106840d3-c818-4527-a3ec-aacee6cd9602",
   "metadata": {},
   "source": [
    "**Извлечение корня**"
   ]
  },
  {
   "cell_type": "code",
   "execution_count": 45,
   "id": "8738870b-5bf7-4f38-ac08-0aff63eb048b",
   "metadata": {},
   "outputs": [
    {
     "data": {
      "text/plain": [
       "array([1., 2., 3., 4., 5., 6.])"
      ]
     },
     "execution_count": 45,
     "metadata": {},
     "output_type": "execute_result"
    }
   ],
   "source": [
    "arr = np.array([1, 4, 9, 16, 25, 36])\n",
    "np.sqrt(arr)"
   ]
  },
  {
   "cell_type": "markdown",
   "id": "e9d40a57-4ec3-4c28-93a0-9d529e0d093e",
   "metadata": {},
   "source": [
    "**Модуль**"
   ]
  },
  {
   "cell_type": "code",
   "execution_count": 46,
   "id": "379f4f2b-8cd1-4a6f-a6c0-bea69a96418c",
   "metadata": {},
   "outputs": [
    {
     "data": {
      "text/plain": [
       "array([1, 2, 3, 4, 5, 6])"
      ]
     },
     "execution_count": 46,
     "metadata": {},
     "output_type": "execute_result"
    }
   ],
   "source": [
    "arr = np.array([1, -2, 3, -4, 5, -6])\n",
    "np.abs(arr)"
   ]
  },
  {
   "cell_type": "markdown",
   "id": "b463568c-3dd9-4a2d-9246-591ffb5cfb69",
   "metadata": {},
   "source": [
    "**Математическое округление**"
   ]
  },
  {
   "cell_type": "code",
   "execution_count": 47,
   "id": "681c3dfa-5464-4f4c-a4ef-fcc449f32353",
   "metadata": {},
   "outputs": [
    {
     "data": {
      "text/plain": [
       "array([3.5, 5.6, 4.4, 2.7])"
      ]
     },
     "execution_count": 47,
     "metadata": {},
     "output_type": "execute_result"
    }
   ],
   "source": [
    "arr = np.array([3.49, 5.6, 4.45, 2.66])\n",
    "np.round(arr, 1)  # Округление до ближайшего чётного. 2-ой параметр - количество знаков после запятой."
   ]
  },
  {
   "cell_type": "markdown",
   "id": "45659b05-4f07-4ff7-ad5a-458a926111c1",
   "metadata": {},
   "source": [
    "**Округление вверх**"
   ]
  },
  {
   "cell_type": "code",
   "execution_count": 48,
   "id": "b530d9c7-d403-4306-869f-bfd370e1f72a",
   "metadata": {},
   "outputs": [
    {
     "data": {
      "text/plain": [
       "array([ 4.,  6.,  5.,  3., 10.])"
      ]
     },
     "execution_count": 48,
     "metadata": {},
     "output_type": "execute_result"
    }
   ],
   "source": [
    "arr = np.array([3.49, 5.6, 4.45, 2.66, 9.01])\n",
    "np.ceil(arr)"
   ]
  },
  {
   "cell_type": "markdown",
   "id": "2ec8c2ed-80d3-4f53-8f87-dd151e5be622",
   "metadata": {},
   "source": [
    "**Округление вниз**"
   ]
  },
  {
   "cell_type": "code",
   "execution_count": 49,
   "id": "9f4c2af6-6f99-49e9-9502-02f4bdff0e44",
   "metadata": {},
   "outputs": [
    {
     "data": {
      "text/plain": [
       "array([ 3.,  5.,  4.,  2.,  9., 99.])"
      ]
     },
     "execution_count": 49,
     "metadata": {},
     "output_type": "execute_result"
    }
   ],
   "source": [
    "arr = np.array([3.49, 5.6, 4.45, 2.66, 9.01, 99.99])\n",
    "np.floor(arr)"
   ]
  },
  {
   "cell_type": "markdown",
   "id": "be719de9-e906-41ba-9e82-b624d6593bf8",
   "metadata": {
    "jp-MarkdownHeadingCollapsed": true
   },
   "source": [
    "### Сравнение массивов"
   ]
  },
  {
   "cell_type": "markdown",
   "id": "f22386ff-2462-4248-ab04-b93115c25f29",
   "metadata": {},
   "source": [
    "Numpy сравнивает массивы поэлементно"
   ]
  },
  {
   "cell_type": "code",
   "execution_count": 50,
   "id": "974801ab-631b-4ca2-b162-f4efe1a1f2c0",
   "metadata": {},
   "outputs": [
    {
     "data": {
      "text/plain": [
       "array([False, False,  True])"
      ]
     },
     "execution_count": 50,
     "metadata": {},
     "output_type": "execute_result"
    }
   ],
   "source": [
    "#  Резульаты измерений температуры в 1-й и 2-й дни\n",
    "first_day = np.array([36.6, 36.5, 36.8])\n",
    "second_day = np.array([36.6, 36.6, 36.6])\n",
    "first_day > second_day"
   ]
  },
  {
   "cell_type": "markdown",
   "id": "20ba5c6f-26d0-4f24-b662-45a0d95104df",
   "metadata": {
    "jp-MarkdownHeadingCollapsed": true
   },
   "source": [
    "### Срезы"
   ]
  },
  {
   "cell_type": "markdown",
   "id": "03be0db7-5444-4ce8-bdad-2304c2861c13",
   "metadata": {},
   "source": [
    "Срезы в numpy делаются абсолютно так же, как при работе со списками в python при помощи ```[start:finish:step]```."
   ]
  },
  {
   "cell_type": "code",
   "execution_count": 51,
   "id": "dda5b6d0-cadd-4160-b083-dc5d4b436017",
   "metadata": {},
   "outputs": [
    {
     "data": {
      "text/plain": [
       "(array([0, 1, 2, 3, 4]), array([5, 6, 7, 8, 9]))"
      ]
     },
     "execution_count": 51,
     "metadata": {},
     "output_type": "execute_result"
    }
   ],
   "source": [
    "arr = np.arange(10)\n",
    "first_half = arr[:5]\n",
    "second_half = arr[5:]\n",
    "first_half, second_half"
   ]
  },
  {
   "cell_type": "markdown",
   "id": "5db6b40a-52cd-4276-9fef-059e7f93d0ae",
   "metadata": {},
   "source": [
    "При использовании срезов, если границы выходят за размеров массива, то ошибки ```IndexError``` не будет возникать. Вместо этого будет взят максимально возможный срез в данной ситуации."
   ]
  },
  {
   "cell_type": "code",
   "execution_count": 52,
   "id": "2856238e-36ff-4e37-a193-e65875934817",
   "metadata": {},
   "outputs": [
    {
     "data": {
      "text/plain": [
       "array([0, 1, 2, 3, 4, 5, 6, 7, 8, 9])"
      ]
     },
     "execution_count": 52,
     "metadata": {},
     "output_type": "execute_result"
    }
   ],
   "source": [
    "x = arr[0:200]  # явно выходим за  границы массива\n",
    "x"
   ]
  },
  {
   "cell_type": "markdown",
   "id": "75813061-fc1f-4006-84e9-32cb360a476d",
   "metadata": {},
   "source": [
    "***Важный момент!*** Если мы захотим переприсвоить значение среза, то изменится изначальный массив."
   ]
  },
  {
   "cell_type": "code",
   "execution_count": 53,
   "id": "707d3c12-e1f6-4c11-b9d7-1725bf37ad19",
   "metadata": {},
   "outputs": [
    {
     "data": {
      "text/plain": [
       "array([100,   1,   2,   3,   4,   5, 101,   7,   8,   9])"
      ]
     },
     "execution_count": 53,
     "metadata": {},
     "output_type": "execute_result"
    }
   ],
   "source": [
    "first_half[0] = 100\n",
    "second_half[1] = 101\n",
    "arr"
   ]
  },
  {
   "cell_type": "markdown",
   "id": "21b67fd2-9672-42e6-89dd-fbe054871209",
   "metadata": {},
   "source": [
    "Что же делать, чтобы изначальный массив не изменялся? Читаем следующий блок ;)"
   ]
  },
  {
   "cell_type": "markdown",
   "id": "ff9643ba-19f1-4fd8-91f2-1d8dcb551c9b",
   "metadata": {
    "jp-MarkdownHeadingCollapsed": true
   },
   "source": [
    "### Как создать копию массива? copy()"
   ]
  },
  {
   "cell_type": "markdown",
   "id": "ca709de2-1277-4298-a7ee-0de1680e979d",
   "metadata": {},
   "source": [
    "Чтобы создать копию массива, достаточно использовать функцию **copy()**."
   ]
  },
  {
   "cell_type": "code",
   "execution_count": 54,
   "id": "584765b6-27ce-4967-9dfa-bb54ba535486",
   "metadata": {},
   "outputs": [
    {
     "data": {
      "text/plain": [
       "(array([0, 1, 2, 3, 4]), array([5, 6, 7, 8, 9]))"
      ]
     },
     "execution_count": 54,
     "metadata": {},
     "output_type": "execute_result"
    }
   ],
   "source": [
    "arr = np.arange(10)\n",
    "first_half = arr[:5].copy()\n",
    "second_half = arr[5:].copy()\n",
    "first_half, second_half"
   ]
  },
  {
   "cell_type": "code",
   "execution_count": 55,
   "id": "97e61149-7745-4d08-9a1f-3759c2694005",
   "metadata": {},
   "outputs": [
    {
     "data": {
      "text/plain": [
       "array([0, 1, 2, 3, 4, 5, 6, 7, 8, 9])"
      ]
     },
     "execution_count": 55,
     "metadata": {},
     "output_type": "execute_result"
    }
   ],
   "source": [
    "first_half[0] = 100\n",
    "second_half[1] = 101\n",
    "arr"
   ]
  },
  {
   "cell_type": "markdown",
   "id": "9487a2b9-800a-4b79-aafb-21238e86af48",
   "metadata": {},
   "source": [
    "Мы изменили значение **копии** среза, а не сам срез, поэтому изначальный массив не поменялся."
   ]
  },
  {
   "cell_type": "markdown",
   "id": "211b4333-bcfe-4a1f-8c9c-d8b520ccefe4",
   "metadata": {
    "jp-MarkdownHeadingCollapsed": true
   },
   "source": [
    "## Lesson03"
   ]
  },
  {
   "cell_type": "markdown",
   "id": "4ed2baa6-0b78-4781-a8df-367c32641a5a",
   "metadata": {
    "jp-MarkdownHeadingCollapsed": true
   },
   "source": [
    "### Индексация двумерных массивов"
   ]
  },
  {
   "cell_type": "markdown",
   "id": "be90f09e-ff1f-41b4-8406-936b622ff429",
   "metadata": {},
   "source": [
    "К элементам двумерного массива мы можем обращаться как мы обращаемся к двумерным спискам, но есть более короткая запись. Numpy позволяет в одних квадратных скобках через запятую указать нужные нам индексы."
   ]
  },
  {
   "cell_type": "code",
   "execution_count": 56,
   "id": "e1a77475-0693-4b3f-b9f4-996862eebcf4",
   "metadata": {},
   "outputs": [
    {
     "data": {
      "text/plain": [
       "np.True_"
      ]
     },
     "execution_count": 56,
     "metadata": {},
     "output_type": "execute_result"
    }
   ],
   "source": [
    "arr = np.array([[1, 2, 3], [4, 5, 6]])\n",
    "elem_1 = arr[1][1]\n",
    "elem_2 = arr[1, 1]\n",
    "elem_1 == elem_2"
   ]
  },
  {
   "cell_type": "markdown",
   "id": "ac92ab48-45b8-421b-a84b-6194ac763568",
   "metadata": {},
   "source": [
    "Если вытаскивать строки и отдельные элементы довольно легко, то как нам вытащить столбцы?"
   ]
  },
  {
   "cell_type": "markdown",
   "id": "9925f02f-7379-4af9-8ed6-c5c48b7260df",
   "metadata": {},
   "source": [
    "Для этого мы у всего у массива возьмём по нулевому элементу. То есть двоеточие говорит нам о том, что бы берём все строки, а 0 о том, что у каждой строки мы берём нулевой элемент."
   ]
  },
  {
   "cell_type": "code",
   "execution_count": 57,
   "id": "ec26d97a-461b-444e-b8a5-a9859dca0fdb",
   "metadata": {},
   "outputs": [
    {
     "data": {
      "text/plain": [
       "array([[ 1,  2,  3,  4],\n",
       "       [ 5,  6,  7,  8],\n",
       "       [ 9, 10, 11, 12],\n",
       "       [13, 14, 15, 16],\n",
       "       [17, 18, 19, 20]])"
      ]
     },
     "execution_count": 57,
     "metadata": {},
     "output_type": "execute_result"
    }
   ],
   "source": [
    "arr2 = np.array([[1, 2, 3, 4], [5, 6, 7, 8], [9, 10, 11, 12], [13, 14, 15, 16], [17, 18, 19, 20]])\n",
    "arr2"
   ]
  },
  {
   "cell_type": "code",
   "execution_count": 58,
   "id": "5e78c069-18de-458b-849a-3336384c553e",
   "metadata": {},
   "outputs": [
    {
     "data": {
      "text/plain": [
       "array([ 1,  5,  9, 13, 17])"
      ]
     },
     "execution_count": 58,
     "metadata": {},
     "output_type": "execute_result"
    }
   ],
   "source": [
    "arr2[:, 0]"
   ]
  },
  {
   "cell_type": "markdown",
   "id": "ba1143c4-86ff-4efc-8659-1c813e510dab",
   "metadata": {
    "editable": true,
    "slideshow": {
     "slide_type": ""
    },
    "tags": []
   },
   "source": [
    "Что примечательно, многие из читающих могут подумать, а почему мы не можем написать просто ```arr2[:][0]```?"
   ]
  },
  {
   "cell_type": "code",
   "execution_count": 59,
   "id": "127f5882-ade8-4e34-a58b-bf18365db8c7",
   "metadata": {},
   "outputs": [
    {
     "data": {
      "text/plain": [
       "array([1, 2, 3, 4])"
      ]
     },
     "execution_count": 59,
     "metadata": {},
     "output_type": "execute_result"
    }
   ],
   "source": [
    "arr2[:][0]"
   ]
  },
  {
   "cell_type": "markdown",
   "id": "77ec3b9f-eed7-4103-b875-b29563d95271",
   "metadata": {},
   "source": [
    "Подвох в том, что это особенность синтаксиса numpy. Конструкция ```arr2[:, 0]``` выполняется построчно, а ```arr2[:][0]``` - нет."
   ]
  },
  {
   "cell_type": "code",
   "execution_count": 60,
   "id": "834e6bcd-7327-468e-9b02-4d36e4ee0a90",
   "metadata": {},
   "outputs": [
    {
     "data": {
      "text/plain": [
       "array([[ 2,  3],\n",
       "       [ 6,  7],\n",
       "       [10, 11],\n",
       "       [14, 15],\n",
       "       [18, 19]])"
      ]
     },
     "execution_count": 60,
     "metadata": {},
     "output_type": "execute_result"
    }
   ],
   "source": [
    "arr2[:, 1:3]"
   ]
  },
  {
   "cell_type": "code",
   "execution_count": 61,
   "id": "35eaf245-3acc-474d-9ee6-01cf0c33ae2a",
   "metadata": {},
   "outputs": [
    {
     "data": {
      "text/plain": [
       "array([[ 6,  7],\n",
       "       [10, 11]])"
      ]
     },
     "execution_count": 61,
     "metadata": {},
     "output_type": "execute_result"
    }
   ],
   "source": [
    "arr2[1:3, 1:3]"
   ]
  },
  {
   "cell_type": "markdown",
   "id": "95953d5b-aa30-40fb-837d-883dba2995ed",
   "metadata": {},
   "source": [
    "По примерам выше уже можно было понять, что общий синтаксис выглядить следующим образом:  \n",
    "**```arr[срез по нужным строкам, срез по нужным стобцам]```**"
   ]
  },
  {
   "cell_type": "markdown",
   "id": "3075355b-b80b-4159-bee0-3d9559295586",
   "metadata": {
    "jp-MarkdownHeadingCollapsed": true
   },
   "source": [
    "### Фильтрация с помощью булевой маски"
   ]
  },
  {
   "cell_type": "markdown",
   "id": "b9adf2d1-00d2-42fc-bfe5-4f2005258208",
   "metadata": {},
   "source": [
    "**Булева маска** - это массив из значений True и False. Каждый элемент проходит фильтрацию через булеву маску и распределяется в зависимости от значения маски:  \n",
    "*  Если на той же позиции в маске стоит значение True, элемент добавляется в итоговый массив\n",
    "*  Если на позиции стоит значение False, то элемент не будет включен в итоговый массив"
   ]
  },
  {
   "cell_type": "code",
   "execution_count": 62,
   "id": "e91bd67c-154f-4c4f-b870-3a7f686ace7d",
   "metadata": {},
   "outputs": [
    {
     "data": {
      "text/plain": [
       "array([0, 1, 2, 8, 9])"
      ]
     },
     "execution_count": 62,
     "metadata": {},
     "output_type": "execute_result"
    }
   ],
   "source": [
    "arr = np.arange(10)\n",
    "mask = np.array([True, True, True, False, False, False, False, False, True, True])\n",
    "arr[mask]"
   ]
  },
  {
   "cell_type": "markdown",
   "id": "0403c30b-9be3-4824-b811-a57f8fde8aae",
   "metadata": {},
   "source": [
    "**Создание маски по условию**"
   ]
  },
  {
   "cell_type": "markdown",
   "id": "587fa505-747b-45ce-a4f7-752e2cc865de",
   "metadata": {},
   "source": [
    "Чтобы применить булеву маску к исходному массиву, достаточно подставить ее в качестве индекса."
   ]
  },
  {
   "cell_type": "code",
   "execution_count": 63,
   "id": "75de67b4-43bd-45c5-8b89-dedb44926646",
   "metadata": {},
   "outputs": [
    {
     "data": {
      "text/plain": [
       "array([ True,  True,  True, False, False, False, False, False, False,\n",
       "       False])"
      ]
     },
     "execution_count": 63,
     "metadata": {},
     "output_type": "execute_result"
    }
   ],
   "source": [
    "compare_mask = arr < 3\n",
    "compare_mask"
   ]
  },
  {
   "cell_type": "code",
   "execution_count": 64,
   "id": "b9ef33de-901f-4d30-88ec-7eb39b2aee09",
   "metadata": {},
   "outputs": [
    {
     "data": {
      "text/plain": [
       "array([0, 1, 2])"
      ]
     },
     "execution_count": 64,
     "metadata": {},
     "output_type": "execute_result"
    }
   ],
   "source": [
    "arr[compare_mask]"
   ]
  },
  {
   "cell_type": "markdown",
   "id": "18ead754-d066-481f-89ba-ed22dd890378",
   "metadata": {},
   "source": [
    "Чаще всего мы просто сразу пишем условие в квадратных скобках."
   ]
  },
  {
   "cell_type": "code",
   "execution_count": 65,
   "id": "49c7b5d3-457f-47ea-bb3f-df5774b17ca7",
   "metadata": {},
   "outputs": [
    {
     "data": {
      "text/plain": [
       "array([6, 7, 8, 9])"
      ]
     },
     "execution_count": 65,
     "metadata": {},
     "output_type": "execute_result"
    }
   ],
   "source": [
    "arr[arr > 5]"
   ]
  },
  {
   "cell_type": "markdown",
   "id": "e49b7cbf-badf-4ac7-bcc9-088a7b13d038",
   "metadata": {},
   "source": [
    "**Инверсия булевого массива**"
   ]
  },
  {
   "cell_type": "markdown",
   "id": "c07e45ce-7851-4f99-a176-c20a5457fd0c",
   "metadata": {},
   "source": [
    "Если мы захотим в маске поменять все значения с True на False, а с False на True, то нужно сделать инверсию маски. Для этого существует специальный символ тильда ```~```."
   ]
  },
  {
   "cell_type": "code",
   "execution_count": 66,
   "id": "822bcb8c-3e9c-49dd-bab2-c23c68e8bafa",
   "metadata": {},
   "outputs": [
    {
     "data": {
      "text/plain": [
       "array([False,  True,  True, False])"
      ]
     },
     "execution_count": 66,
     "metadata": {},
     "output_type": "execute_result"
    }
   ],
   "source": [
    "mask = np.array([True, False, False, True])\n",
    "~mask"
   ]
  },
  {
   "cell_type": "markdown",
   "id": "379c30f6-6ce4-4052-9efb-5873b4cbeac8",
   "metadata": {},
   "source": [
    "**Алгебра логики булевых массивов**"
   ]
  },
  {
   "cell_type": "code",
   "execution_count": 67,
   "id": "3fa84751-a97a-484a-b30c-d58ff951074a",
   "metadata": {},
   "outputs": [],
   "source": [
    "mask_1 = np.array([True, False, False])\n",
    "mask_2 = np.array([True, True, False])"
   ]
  },
  {
   "cell_type": "markdown",
   "id": "c88ef9b8-3857-4dfd-8dc2-27b219d77795",
   "metadata": {},
   "source": [
    "*Логическое И(&)*"
   ]
  },
  {
   "cell_type": "code",
   "execution_count": 68,
   "id": "87b25f11-5770-4e4d-8081-73af261d2570",
   "metadata": {},
   "outputs": [
    {
     "data": {
      "text/plain": [
       "array([ True, False, False])"
      ]
     },
     "execution_count": 68,
     "metadata": {},
     "output_type": "execute_result"
    }
   ],
   "source": [
    "mask_1 & mask_2"
   ]
  },
  {
   "cell_type": "markdown",
   "id": "87ff3c1e-7dcb-4b4f-aee6-a25306ce97e0",
   "metadata": {},
   "source": [
    "*Логическое ИЛИ(|)*"
   ]
  },
  {
   "cell_type": "code",
   "execution_count": 69,
   "id": "a707486e-7aa5-457f-9bb8-4959041dbc9f",
   "metadata": {},
   "outputs": [
    {
     "data": {
      "text/plain": [
       "array([ True,  True, False])"
      ]
     },
     "execution_count": 69,
     "metadata": {},
     "output_type": "execute_result"
    }
   ],
   "source": [
    "mask_1 | mask_2"
   ]
  },
  {
   "cell_type": "markdown",
   "id": "659b64e4-ba01-4311-be19-e057c1885508",
   "metadata": {
    "jp-MarkdownHeadingCollapsed": true
   },
   "source": [
    "### Прихотливая индексация"
   ]
  },
  {
   "cell_type": "code",
   "execution_count": 70,
   "id": "281f5c33-b718-4e97-8c1c-93d4ac1b48b2",
   "metadata": {},
   "outputs": [],
   "source": [
    "arr = np.array([\n",
    "               [1, 2, 3, 4],\n",
    "               [5, 6, 7, 8],\n",
    "               [9, 10, 11, 12],\n",
    "               [13, 14, 15, 16],\n",
    "               [17, 18, 19, 20]\n",
    "              ])"
   ]
  },
  {
   "cell_type": "markdown",
   "id": "f5513ea4-433b-4551-a695-47a71fe18b98",
   "metadata": {},
   "source": [
    "Интересное наблюдение: ```arr[[0, 2], :]``` и ```arr[[0, 2]]``` дают одинаковый вывод, порядок строк не важен."
   ]
  },
  {
   "cell_type": "code",
   "execution_count": 71,
   "id": "4ea1ef46-ae73-4cb6-94d8-106f2ada321e",
   "metadata": {},
   "outputs": [
    {
     "data": {
      "text/plain": [
       "array([[ True,  True,  True,  True],\n",
       "       [ True,  True,  True,  True]])"
      ]
     },
     "execution_count": 71,
     "metadata": {},
     "output_type": "execute_result"
    }
   ],
   "source": [
    "arr[[0, 2], :] == arr[[0, 2]]"
   ]
  },
  {
   "cell_type": "code",
   "execution_count": 72,
   "id": "6601faa5-d832-4701-86ff-150f0bddcf22",
   "metadata": {},
   "outputs": [
    {
     "data": {
      "text/plain": [
       "array([[17, 18, 19, 20],\n",
       "       [ 5,  6,  7,  8]])"
      ]
     },
     "execution_count": 72,
     "metadata": {},
     "output_type": "execute_result"
    }
   ],
   "source": [
    "arr[[4, 1]]"
   ]
  },
  {
   "cell_type": "markdown",
   "id": "3e83beb4-727b-4238-9a1c-0dae56376c4f",
   "metadata": {},
   "source": [
    "Аналогично работает и с колонками. Допустим, что мы хотим вытащить 2 и 3 столбец, причем поменять их местами."
   ]
  },
  {
   "cell_type": "code",
   "execution_count": 73,
   "id": "b4abc0cb-ba39-4467-aa61-e1a4ff4fc3dd",
   "metadata": {},
   "outputs": [
    {
     "data": {
      "text/plain": [
       "array([[ 3,  2],\n",
       "       [ 7,  6],\n",
       "       [11, 10],\n",
       "       [15, 14],\n",
       "       [19, 18]])"
      ]
     },
     "execution_count": 73,
     "metadata": {},
     "output_type": "execute_result"
    }
   ],
   "source": [
    "arr[:, [2, 1]]"
   ]
  },
  {
   "cell_type": "markdown",
   "id": "f60bac59-25d6-48b9-8eac-9856b2738d39",
   "metadata": {},
   "source": [
    "**Задача.** На вход функции подается двумерный массив: доработайте функцию так, чтобы она вернула значения, которые лежат на главной диагонали. Значения должны быть в одномерном массиве."
   ]
  },
  {
   "cell_type": "code",
   "execution_count": 74,
   "id": "73588592-f3b2-4176-9d06-17382379d721",
   "metadata": {},
   "outputs": [],
   "source": [
    "def solution(arr):\n",
    "    arr = arr[range(5), range(5)]\n",
    "    return arr"
   ]
  },
  {
   "cell_type": "markdown",
   "id": "55201460-88b0-4625-a20d-01251603c23f",
   "metadata": {
    "jp-MarkdownHeadingCollapsed": true
   },
   "source": [
    "### Преобразование одномерного массива в двумерный и наоборот. reshape()"
   ]
  },
  {
   "cell_type": "markdown",
   "id": "62e25480-1ad2-4c86-92a1-5062c4ddfd24",
   "metadata": {},
   "source": [
    "Чтобы преобразовать одномерный массив в двумерный существует функция **reshape()**. В качестве аргумента ей передаётся кортеж ```(m, n)```, где m - количество строк, а n - количество столбцов. Самое главное — при использовании функции reshape() произведение ее параметров\n",
    "должно быть равно количеству элементов в массиве."
   ]
  },
  {
   "cell_type": "code",
   "execution_count": 75,
   "id": "edc6bcdc-6809-4e2d-8f7a-5e4f0ed287df",
   "metadata": {},
   "outputs": [
    {
     "data": {
      "text/plain": [
       "array([[ 0,  1,  2,  3,  4,  5,  6,  7,  8,  9],\n",
       "       [10, 11, 12, 13, 14, 15, 16, 17, 18, 19],\n",
       "       [20, 21, 22, 23, 24, 25, 26, 27, 28, 29],\n",
       "       [30, 31, 32, 33, 34, 35, 36, 37, 38, 39],\n",
       "       [40, 41, 42, 43, 44, 45, 46, 47, 48, 49]])"
      ]
     },
     "execution_count": 75,
     "metadata": {},
     "output_type": "execute_result"
    }
   ],
   "source": [
    "arr = np.arange(50)\n",
    "arr.reshape((5, 10))"
   ]
  },
  {
   "cell_type": "markdown",
   "id": "88ea377d-90a6-4bdd-872d-e36ce487cd6a",
   "metadata": {},
   "source": [
    "Чтобы преобразовать двумерный массив в одномерный, в качестве аргумента в reshape() передаётся -1."
   ]
  },
  {
   "cell_type": "code",
   "execution_count": 76,
   "id": "501fc8d2-2271-4a58-bbb5-6ffebfd43256",
   "metadata": {},
   "outputs": [
    {
     "data": {
      "text/plain": [
       "array([ 0,  1,  2,  3,  4,  5,  6,  7,  8,  9, 10, 11, 12, 13, 14, 15, 16,\n",
       "       17, 18, 19, 20, 21, 22, 23, 24, 25, 26, 27, 28, 29, 30, 31, 32, 33,\n",
       "       34, 35, 36, 37, 38, 39, 40, 41, 42, 43, 44, 45, 46, 47, 48, 49])"
      ]
     },
     "execution_count": 76,
     "metadata": {},
     "output_type": "execute_result"
    }
   ],
   "source": [
    "arr.reshape(-1)"
   ]
  },
  {
   "cell_type": "markdown",
   "id": "101ff220-b1a1-4bc5-9716-ebcdc0424c32",
   "metadata": {},
   "source": [
    "*Функция reshape() именяет исходный массив, а не делает его копию.*"
   ]
  },
  {
   "cell_type": "markdown",
   "id": "90aa738b-96c5-4b55-8a8e-bad7dfdb17e1",
   "metadata": {
    "jp-MarkdownHeadingCollapsed": true
   },
   "source": [
    "## Lesson04"
   ]
  },
  {
   "cell_type": "markdown",
   "id": "2dd03a7e-da7c-48eb-91be-23c1392701ff",
   "metadata": {
    "jp-MarkdownHeadingCollapsed": true
   },
   "source": [
    "### NaN"
   ]
  },
  {
   "cell_type": "markdown",
   "id": "ffdc303e-062b-46ba-9860-4d09cd46ab47",
   "metadata": {},
   "source": [
    "```NaN``` (Not a Number) – специальное значение, обозначающее неопределенные или некорректные числовые данные. Оно часто появляется в результате недопустимых математических операций, например:"
   ]
  },
  {
   "cell_type": "code",
   "execution_count": 77,
   "id": "7b1cf1eb-e0ee-46c4-9d92-b4c9f6f6814a",
   "metadata": {},
   "outputs": [
    {
     "name": "stderr",
     "output_type": "stream",
     "text": [
      "C:\\Users\\OL\\AppData\\Local\\Temp\\ipykernel_16952\\153577755.py:1: RuntimeWarning: invalid value encountered in log\n",
      "  np.log(-1)\n"
     ]
    },
    {
     "data": {
      "text/plain": [
       "np.float64(nan)"
      ]
     },
     "execution_count": 77,
     "metadata": {},
     "output_type": "execute_result"
    }
   ],
   "source": [
    "np.log(-1)"
   ]
  },
  {
   "cell_type": "code",
   "execution_count": 78,
   "id": "e15cfd66-308b-437a-ae7a-a65e30f60de2",
   "metadata": {},
   "outputs": [
    {
     "data": {
      "text/plain": [
       "array([ 2., nan,  4.,  1., nan])"
      ]
     },
     "execution_count": 78,
     "metadata": {},
     "output_type": "execute_result"
    }
   ],
   "source": [
    "arr = np.array([2, np.nan, 4, 1, np.nan])\n",
    "arr"
   ]
  },
  {
   "cell_type": "markdown",
   "id": "b55b9e58-1901-4ab8-a18a-cd430452bd4a",
   "metadata": {},
   "source": [
    "NaN портит вычисления:"
   ]
  },
  {
   "cell_type": "code",
   "execution_count": 79,
   "id": "170884b7-ef6b-4e03-b163-eda4edc682ab",
   "metadata": {},
   "outputs": [
    {
     "data": {
      "text/plain": [
       "nan"
      ]
     },
     "execution_count": 79,
     "metadata": {},
     "output_type": "execute_result"
    }
   ],
   "source": [
    "np.nan + 10"
   ]
  },
  {
   "cell_type": "code",
   "execution_count": 80,
   "id": "d60d35a5-e664-42c7-a5a7-bbb918370d86",
   "metadata": {},
   "outputs": [
    {
     "data": {
      "text/plain": [
       "nan"
      ]
     },
     "execution_count": 80,
     "metadata": {},
     "output_type": "execute_result"
    }
   ],
   "source": [
    "np.nan * 0"
   ]
  },
  {
   "cell_type": "code",
   "execution_count": 81,
   "id": "02e9217c-de7b-4886-bea9-9e2805212b62",
   "metadata": {},
   "outputs": [
    {
     "data": {
      "text/plain": [
       "np.float64(nan)"
      ]
     },
     "execution_count": 81,
     "metadata": {},
     "output_type": "execute_result"
    }
   ],
   "source": [
    "np.mean([1, 2, np.nan, 4])"
   ]
  },
  {
   "cell_type": "markdown",
   "id": "5cf632bf-353d-4eac-85ce-4509f169e7a4",
   "metadata": {},
   "source": [
    "Функция **isnan()** проверяет, какие элементы массива являются NaN и возвращает булевый массив."
   ]
  },
  {
   "cell_type": "code",
   "execution_count": 82,
   "id": "9d5e0e2b-b7c5-4ab6-ad80-db2f57243073",
   "metadata": {},
   "outputs": [
    {
     "data": {
      "text/plain": [
       "array([False,  True, False, False,  True])"
      ]
     },
     "execution_count": 82,
     "metadata": {},
     "output_type": "execute_result"
    }
   ],
   "source": [
    "np.isnan(arr)"
   ]
  },
  {
   "cell_type": "markdown",
   "id": "542fbcfe-080d-4b09-a9ed-a9eb47539e52",
   "metadata": {
    "jp-MarkdownHeadingCollapsed": true
   },
   "source": [
    "### Как присвоить без присвоения. out="
   ]
  },
  {
   "cell_type": "code",
   "execution_count": 83,
   "id": "d471bc90-3156-4b1d-9511-4cdec3001378",
   "metadata": {},
   "outputs": [
    {
     "data": {
      "text/plain": [
       "array([ 1, -2, -3,  4,  5])"
      ]
     },
     "execution_count": 83,
     "metadata": {},
     "output_type": "execute_result"
    }
   ],
   "source": [
    "arr = np.array([1, -2, -3, 4, 5])\n",
    "arr"
   ]
  },
  {
   "cell_type": "code",
   "execution_count": 84,
   "id": "65112b3c-9e89-4d6a-a132-dc6ec3b0f337",
   "metadata": {},
   "outputs": [
    {
     "data": {
      "text/plain": [
       "array([1, 2, 3, 4, 5])"
      ]
     },
     "execution_count": 84,
     "metadata": {},
     "output_type": "execute_result"
    }
   ],
   "source": [
    "np.abs(arr)"
   ]
  },
  {
   "cell_type": "code",
   "execution_count": 85,
   "id": "0388e446-1f21-4197-98db-099fed492418",
   "metadata": {},
   "outputs": [
    {
     "data": {
      "text/plain": [
       "array([ 1, -2, -3,  4,  5])"
      ]
     },
     "execution_count": 85,
     "metadata": {},
     "output_type": "execute_result"
    }
   ],
   "source": [
    "arr"
   ]
  },
  {
   "cell_type": "markdown",
   "id": "86722853-759c-4944-9ed2-2753816a6beb",
   "metadata": {},
   "source": [
    "Как мы видим, результат функции abs() не сохранился. Можно сохранить обычным присваиванием, а можно с помощью параметра **out=**. В параметр мы передаём имя переменной, в которую мы хотим сохранить результат. Параметр **работает** для любой функции."
   ]
  },
  {
   "cell_type": "code",
   "execution_count": 86,
   "id": "9dba7ea9-2f4a-45a6-91c2-fd4aa7eb0786",
   "metadata": {},
   "outputs": [
    {
     "data": {
      "text/plain": [
       "array([1, 2, 3, 4, 5])"
      ]
     },
     "execution_count": 86,
     "metadata": {},
     "output_type": "execute_result"
    }
   ],
   "source": [
    "np.abs(arr, out=arr)"
   ]
  },
  {
   "cell_type": "code",
   "execution_count": 87,
   "id": "2f7f1e72-8f52-41d8-a741-287b3f811a2a",
   "metadata": {},
   "outputs": [
    {
     "data": {
      "text/plain": [
       "array([1, 2, 3, 4, 5])"
      ]
     },
     "execution_count": 87,
     "metadata": {},
     "output_type": "execute_result"
    }
   ],
   "source": [
    "arr"
   ]
  },
  {
   "cell_type": "markdown",
   "id": "8a4ba69c-9e9f-484a-a9b3-362077482b34",
   "metadata": {},
   "source": [
    "***Важное замечание!*** Переменная, которую мы передаём в параметр должна быть определена."
   ]
  },
  {
   "cell_type": "markdown",
   "id": "8108ad6c-9455-4fb3-a417-f68b33286154",
   "metadata": {
    "jp-MarkdownHeadingCollapsed": true
   },
   "source": [
    "### Унарные и бинарные функции"
   ]
  },
  {
   "cell_type": "markdown",
   "id": "d9c38633-022d-4400-9022-9fd030701e16",
   "metadata": {},
   "source": [
    "Функции, которые принимают на вход 1 массив называются - **унарными**.  \n",
    "Функции, которые принимают на вход 2 массива называются - **бинарными**."
   ]
  },
  {
   "cell_type": "markdown",
   "id": "c4ef14ed-aecf-43d4-bf48-4a71be49b47c",
   "metadata": {},
   "source": [
    "До этого мы работали с унарными функциями, теперь поговорим о бинарных."
   ]
  },
  {
   "cell_type": "code",
   "execution_count": 88,
   "id": "7636b87c-22db-4d5c-bc2f-c1b13a9ea5d3",
   "metadata": {},
   "outputs": [],
   "source": [
    "first = np.array([1, 2, 7, 9])\n",
    "second = np.array([0, 3, 5, 10])"
   ]
  },
  {
   "cell_type": "code",
   "execution_count": 89,
   "id": "8f09b79a-be38-45e0-b2a4-422345ca37c0",
   "metadata": {},
   "outputs": [
    {
     "data": {
      "text/plain": [
       "array([ 1,  3,  7, 10])"
      ]
     },
     "execution_count": 89,
     "metadata": {},
     "output_type": "execute_result"
    }
   ],
   "source": [
    "np.maximum(first, second)  # сравнивает поэлементно и кладёт максимум"
   ]
  },
  {
   "cell_type": "code",
   "execution_count": 90,
   "id": "a70ab39d-f743-46b1-847a-44268b54edd3",
   "metadata": {},
   "outputs": [
    {
     "data": {
      "text/plain": [
       "array([0, 2, 5, 9])"
      ]
     },
     "execution_count": 90,
     "metadata": {},
     "output_type": "execute_result"
    }
   ],
   "source": [
    "np.minimum(first, second)  # сравнивает поэлементно и кладёт минимум"
   ]
  },
  {
   "cell_type": "code",
   "execution_count": 91,
   "id": "1f859d78-4a0e-4e1f-a55e-f6b0d7c3771d",
   "metadata": {},
   "outputs": [
    {
     "data": {
      "text/plain": [
       "array([ 1,  5, 12, 19])"
      ]
     },
     "execution_count": 91,
     "metadata": {},
     "output_type": "execute_result"
    }
   ],
   "source": [
    "np.add(first, second)  # поэлементно складывает и кладёт сумму"
   ]
  },
  {
   "cell_type": "code",
   "execution_count": 92,
   "id": "bcd60551-1807-48f5-8e4a-3a598cee7df5",
   "metadata": {},
   "outputs": [
    {
     "data": {
      "text/plain": [
       "array([ 1, -1,  2, -1])"
      ]
     },
     "execution_count": 92,
     "metadata": {},
     "output_type": "execute_result"
    }
   ],
   "source": [
    "np.subtract(first, second)  # поэлементно вычитает и кладёт разность"
   ]
  },
  {
   "cell_type": "code",
   "execution_count": 93,
   "id": "cab7558b-9db5-407f-a37c-26fb459748d6",
   "metadata": {},
   "outputs": [
    {
     "data": {
      "text/plain": [
       "array([ 0,  6, 35, 90])"
      ]
     },
     "execution_count": 93,
     "metadata": {},
     "output_type": "execute_result"
    }
   ],
   "source": [
    "np.multiply(first, second)  # поэлементно умножает и кладёт произведение"
   ]
  },
  {
   "cell_type": "code",
   "execution_count": 94,
   "id": "e0a31efe-d96a-4094-a23a-ad0df907587b",
   "metadata": {},
   "outputs": [
    {
     "name": "stderr",
     "output_type": "stream",
     "text": [
      "C:\\Users\\OL\\AppData\\Local\\Temp\\ipykernel_16952\\2825760164.py:1: RuntimeWarning: divide by zero encountered in divide\n",
      "  div = np.divide(first, second)  # поэлементно делит и кладёт частное\n"
     ]
    },
    {
     "data": {
      "text/plain": [
       "array([       inf, 0.66666667, 1.4       , 0.9       ])"
      ]
     },
     "execution_count": 94,
     "metadata": {},
     "output_type": "execute_result"
    }
   ],
   "source": [
    "div = np.divide(first, second)  # поэлементно делит и кладёт частное\n",
    "div"
   ]
  },
  {
   "cell_type": "code",
   "execution_count": 95,
   "id": "5b3c31d7-7560-47fb-bcfe-14c9763554ba",
   "metadata": {},
   "outputs": [
    {
     "data": {
      "text/plain": [
       "array([ True, False, False, False])"
      ]
     },
     "execution_count": 95,
     "metadata": {},
     "output_type": "execute_result"
    }
   ],
   "source": [
    "np.isinf(div)"
   ]
  },
  {
   "cell_type": "code",
   "execution_count": 96,
   "id": "65a0d78e-6908-40fe-9355-d89a436a8828",
   "metadata": {},
   "outputs": [
    {
     "data": {
      "text/plain": [
       "array([ True, False,  True, False])"
      ]
     },
     "execution_count": 96,
     "metadata": {},
     "output_type": "execute_result"
    }
   ],
   "source": [
    "np.greater(first, second)  # поэлементно сравнивает и возвращает True, если значение из 1 > значения из 2, иначе - False"
   ]
  },
  {
   "cell_type": "code",
   "execution_count": 97,
   "id": "50c73b29-3a70-4a3c-9cfb-c2e28384b345",
   "metadata": {},
   "outputs": [
    {
     "data": {
      "text/plain": [
       "array([ True, False,  True, False])"
      ]
     },
     "execution_count": 97,
     "metadata": {},
     "output_type": "execute_result"
    }
   ],
   "source": [
    "np.greater_equal(first, second)  # поэлементно сравнивает и возвращает True, если значение из 1 >= значения из 2, иначе - False"
   ]
  },
  {
   "cell_type": "code",
   "execution_count": 98,
   "id": "07344ef5-ee61-492f-bb94-375cba37a09c",
   "metadata": {},
   "outputs": [
    {
     "data": {
      "text/plain": [
       "array([False,  True, False,  True])"
      ]
     },
     "execution_count": 98,
     "metadata": {},
     "output_type": "execute_result"
    }
   ],
   "source": [
    "np.less(first, second)  # поэлементно сравнивает и возвращает True, если значение из 1 < значения из 2, иначе - False"
   ]
  },
  {
   "cell_type": "code",
   "execution_count": 99,
   "id": "cd049fd7-90ff-4993-9a37-38e3d1358443",
   "metadata": {},
   "outputs": [
    {
     "data": {
      "text/plain": [
       "array([False,  True, False,  True])"
      ]
     },
     "execution_count": 99,
     "metadata": {},
     "output_type": "execute_result"
    }
   ],
   "source": [
    "np.less_equal(first, second)  # поэлементно сравнивает и возвращает True, если значение из 1 <= значения из 2, иначе - False"
   ]
  },
  {
   "cell_type": "code",
   "execution_count": 100,
   "id": "e0d8f107-049c-41a8-a550-b576b8868f22",
   "metadata": {},
   "outputs": [
    {
     "data": {
      "text/plain": [
       "array([False, False, False, False])"
      ]
     },
     "execution_count": 100,
     "metadata": {},
     "output_type": "execute_result"
    }
   ],
   "source": [
    "np.equal(first, second)  # поэлементно сравнивает и возвращает True, если значение из 1 = значения из 2, иначе - False"
   ]
  },
  {
   "cell_type": "code",
   "execution_count": 101,
   "id": "7eeff765-475c-4cb5-8d13-ed7a9126de2c",
   "metadata": {},
   "outputs": [
    {
     "data": {
      "text/plain": [
       "array([ True,  True,  True,  True])"
      ]
     },
     "execution_count": 101,
     "metadata": {},
     "output_type": "execute_result"
    }
   ],
   "source": [
    "np.not_equal(first, second)  # поэлементно сравнивает и возвращает True, если значение из 1 != значения из 2, иначе - False"
   ]
  },
  {
   "cell_type": "markdown",
   "id": "18d6a18a-7cee-4a13-a278-0bd38fed5a6b",
   "metadata": {
    "jp-MarkdownHeadingCollapsed": true
   },
   "source": [
    "## Lesson05"
   ]
  },
  {
   "cell_type": "markdown",
   "id": "ef93c64c-bd67-4e27-a791-29c07ade7008",
   "metadata": {
    "jp-MarkdownHeadingCollapsed": true
   },
   "source": [
    "### Логические функции. where()"
   ]
  },
  {
   "cell_type": "markdown",
   "id": "2d2bc2e8-2345-4abc-a992-f1945cf46c69",
   "metadata": {},
   "source": [
    "Мы можем использовать функцию **where()** для выбора элементов из массива на основе условия."
   ]
  },
  {
   "cell_type": "markdown",
   "id": "575b2bea-35ef-46fe-8e1d-f13726d5b129",
   "metadata": {},
   "source": [
    "Синтаксис следующий ```np.where(условие, x, y)```.  \n",
    "* x — значения, возвращаемые, если условие True.\n",
    "* y — значения, возвращаемые, если условие False."
   ]
  },
  {
   "cell_type": "code",
   "execution_count": 102,
   "id": "085db105-8ea2-44d9-af0d-b4293647ee8d",
   "metadata": {},
   "outputs": [
    {
     "data": {
      "text/plain": [
       "array([0, 0, 0, 1, 1, 1])"
      ]
     },
     "execution_count": 102,
     "metadata": {},
     "output_type": "execute_result"
    }
   ],
   "source": [
    "arr = np.array([-1, -2, -3, 1, 2, 3])\n",
    "np.where(arr > 0, 1, 0)"
   ]
  },
  {
   "cell_type": "markdown",
   "id": "0633dece-e848-42d2-abfc-79fa3fcab880",
   "metadata": {},
   "source": [
    "Чтобы положить значение элемента в результирующий массив, надо указать массив в качестве одного из аргументов."
   ]
  },
  {
   "cell_type": "code",
   "execution_count": 103,
   "id": "39636738-af7d-4055-85e3-98f49a1a36de",
   "metadata": {},
   "outputs": [
    {
     "data": {
      "text/plain": [
       "array([-1, -2, -3,  1,  4,  9])"
      ]
     },
     "execution_count": 103,
     "metadata": {},
     "output_type": "execute_result"
    }
   ],
   "source": [
    "np.where(arr > 0, arr ** 2, arr)"
   ]
  },
  {
   "cell_type": "markdown",
   "id": "a77ae1c7-a01e-49f6-913b-bec4e9526169",
   "metadata": {},
   "source": [
    "Если аргументы x и y не указаны, метод вернет индексы элементов, удовлетворяющих условию."
   ]
  },
  {
   "cell_type": "code",
   "execution_count": 104,
   "id": "de9f8f82-ff3b-467b-8da0-1087f7870e2f",
   "metadata": {},
   "outputs": [
    {
     "data": {
      "text/plain": [
       "(array([3, 4, 5]),)"
      ]
     },
     "execution_count": 104,
     "metadata": {},
     "output_type": "execute_result"
    }
   ],
   "source": [
    "np.where(arr > 0)"
   ]
  },
  {
   "cell_type": "markdown",
   "id": "59b0f305-22cb-41e5-932e-13678af3e4cb",
   "metadata": {
    "jp-MarkdownHeadingCollapsed": true
   },
   "source": [
    "### Математические и статистические функции"
   ]
  },
  {
   "cell_type": "code",
   "execution_count": 105,
   "id": "cdd28bc4-d4d8-4363-84f2-59c9e46b2acd",
   "metadata": {},
   "outputs": [],
   "source": [
    "arr = np.arange(6)"
   ]
  },
  {
   "cell_type": "code",
   "execution_count": 106,
   "id": "6a852626-ddf0-426b-9712-f56e3ee3de7e",
   "metadata": {},
   "outputs": [
    {
     "data": {
      "text/plain": [
       "np.int64(15)"
      ]
     },
     "execution_count": 106,
     "metadata": {},
     "output_type": "execute_result"
    }
   ],
   "source": [
    "np.sum(arr)  # Сумма"
   ]
  },
  {
   "cell_type": "markdown",
   "id": "30b6e728-602b-42c9-bbf9-a81371acaf59",
   "metadata": {},
   "source": [
    "При применении суммы к массиву булевых значений, numpy отождествляет True с 1, а False с 0."
   ]
  },
  {
   "cell_type": "code",
   "execution_count": 107,
   "id": "f6b19bf2-6db0-40f1-91f3-4f954a2be9ca",
   "metadata": {},
   "outputs": [
    {
     "data": {
      "text/plain": [
       "np.int64(2)"
      ]
     },
     "execution_count": 107,
     "metadata": {},
     "output_type": "execute_result"
    }
   ],
   "source": [
    "bool_arr = [True, False, True, False, False]\n",
    "np.sum(bool_arr)"
   ]
  },
  {
   "cell_type": "code",
   "execution_count": 108,
   "id": "eb6b128b-e829-40cd-903e-a0ddcf11799c",
   "metadata": {},
   "outputs": [
    {
     "data": {
      "text/plain": [
       "np.float64(2.5)"
      ]
     },
     "execution_count": 108,
     "metadata": {},
     "output_type": "execute_result"
    }
   ],
   "source": [
    "np.mean(arr)  # Среднее арифметическое"
   ]
  },
  {
   "cell_type": "code",
   "execution_count": 109,
   "id": "a55cea2d-282b-47dd-8b74-1f0812fd6251",
   "metadata": {},
   "outputs": [
    {
     "data": {
      "text/plain": [
       "np.int64(0)"
      ]
     },
     "execution_count": 109,
     "metadata": {},
     "output_type": "execute_result"
    }
   ],
   "source": [
    "np.min(arr)  # Минимум"
   ]
  },
  {
   "cell_type": "code",
   "execution_count": 110,
   "id": "4116cfe3-6662-4d7b-9710-bf3c9696ed28",
   "metadata": {},
   "outputs": [
    {
     "data": {
      "text/plain": [
       "np.int64(5)"
      ]
     },
     "execution_count": 110,
     "metadata": {},
     "output_type": "execute_result"
    }
   ],
   "source": [
    "np.max(arr)  # Максимум"
   ]
  },
  {
   "cell_type": "code",
   "execution_count": 111,
   "id": "3f1447fa-f27d-4f67-9871-d91498de734b",
   "metadata": {},
   "outputs": [
    {
     "data": {
      "text/plain": [
       "np.float64(1.707825127659933)"
      ]
     },
     "execution_count": 111,
     "metadata": {},
     "output_type": "execute_result"
    }
   ],
   "source": [
    "np.std(arr)  # Стандартное отклононение"
   ]
  },
  {
   "cell_type": "code",
   "execution_count": 112,
   "id": "e23a284e-7847-4197-94c5-5be5b63e72c4",
   "metadata": {},
   "outputs": [
    {
     "data": {
      "text/plain": [
       "np.float64(2.9166666666666665)"
      ]
     },
     "execution_count": 112,
     "metadata": {},
     "output_type": "execute_result"
    }
   ],
   "source": [
    "np.var(arr)  # Вычисление дисперсии"
   ]
  },
  {
   "cell_type": "code",
   "execution_count": 113,
   "id": "cfeab357-849d-499f-a5b4-99edce09accc",
   "metadata": {},
   "outputs": [
    {
     "data": {
      "text/plain": [
       "np.int64(0)"
      ]
     },
     "execution_count": 113,
     "metadata": {},
     "output_type": "execute_result"
    }
   ],
   "source": [
    "np.argmin(arr)  # Индекс минимального значения"
   ]
  },
  {
   "cell_type": "code",
   "execution_count": 114,
   "id": "4e83d243-9329-40a4-afa1-84a25e4b7c12",
   "metadata": {},
   "outputs": [
    {
     "data": {
      "text/plain": [
       "np.int64(5)"
      ]
     },
     "execution_count": 114,
     "metadata": {},
     "output_type": "execute_result"
    }
   ],
   "source": [
    "np.argmax(arr)  # Индекс максимального значения"
   ]
  },
  {
   "cell_type": "markdown",
   "id": "58f329ff-6a30-4c51-a9e4-2cc1cfa1683d",
   "metadata": {
    "jp-MarkdownHeadingCollapsed": true
   },
   "source": [
    "### Упрощенная запись при использовании функций"
   ]
  },
  {
   "cell_type": "markdown",
   "id": "b9750ef1-ec21-41ab-9ca8-f59277159a2c",
   "metadata": {},
   "source": [
    "Порядком надоедает обращаться каждый раз к numpy и писать ```np.функция(аргумент_функции)```.  \n",
    "Вместо этого есть другая форма записи: ```аргумент_функции.функция()```."
   ]
  },
  {
   "cell_type": "code",
   "execution_count": 115,
   "id": "fb7cbd4b-e6c5-48ce-ba9a-585cb4d71bc8",
   "metadata": {},
   "outputs": [
    {
     "data": {
      "text/plain": [
       "np.float64(2.5)"
      ]
     },
     "execution_count": 115,
     "metadata": {},
     "output_type": "execute_result"
    }
   ],
   "source": [
    "arr = np.arange(6)\n",
    "arr.mean()"
   ]
  },
  {
   "cell_type": "markdown",
   "id": "52b6500c-51b6-40ce-aa44-f6244354743c",
   "metadata": {
    "jp-MarkdownHeadingCollapsed": true
   },
   "source": [
    "### Обработка строк и столбцов в матрице. axis="
   ]
  },
  {
   "cell_type": "code",
   "execution_count": 116,
   "id": "cde3d141-c72c-47a9-88c3-a868fc290138",
   "metadata": {},
   "outputs": [
    {
     "data": {
      "text/plain": [
       "array([[0, 1, 2, 3, 4],\n",
       "       [5, 6, 7, 8, 9]])"
      ]
     },
     "execution_count": 116,
     "metadata": {},
     "output_type": "execute_result"
    }
   ],
   "source": [
    "arr = np.arange(10).reshape(2, 5)\n",
    "arr"
   ]
  },
  {
   "cell_type": "code",
   "execution_count": 117,
   "id": "48714873-bb81-4930-ab65-056c886a1b80",
   "metadata": {},
   "outputs": [
    {
     "data": {
      "text/plain": [
       "np.int64(45)"
      ]
     },
     "execution_count": 117,
     "metadata": {},
     "output_type": "execute_result"
    }
   ],
   "source": [
    "arr.sum()"
   ]
  },
  {
   "cell_type": "markdown",
   "id": "8616d4a0-4385-4a28-a377-e782a41f2efe",
   "metadata": {},
   "source": [
    "А если мы хотим узнать сумму(или любую другую статистику) в каждой строке и в каждом столбце? Для этого существует параметр **axis=**.  \n",
    "* ```axis=1``` - отработает по строкам,\n",
    "* ```axis=0``` - отработает по столбцам.\n",
    "Результат будет в отдельном массиве. "
   ]
  },
  {
   "cell_type": "code",
   "execution_count": 118,
   "id": "8fc4eaf0-5632-4b92-8df2-faaf7310f93e",
   "metadata": {},
   "outputs": [
    {
     "data": {
      "text/plain": [
       "array([2., 7.])"
      ]
     },
     "execution_count": 118,
     "metadata": {},
     "output_type": "execute_result"
    }
   ],
   "source": [
    "arr.mean(axis=1)  # по строкам"
   ]
  },
  {
   "cell_type": "code",
   "execution_count": 119,
   "id": "80a284bb-284b-4c10-b6f7-4e623289b4fe",
   "metadata": {},
   "outputs": [
    {
     "data": {
      "text/plain": [
       "array([2.5, 3.5, 4.5, 5.5, 6.5])"
      ]
     },
     "execution_count": 119,
     "metadata": {},
     "output_type": "execute_result"
    }
   ],
   "source": [
    "arr.mean(axis=0)  # по столбцам"
   ]
  },
  {
   "cell_type": "markdown",
   "id": "cfdb0bc2-d598-4c33-9b9c-5a0a5181fc25",
   "metadata": {},
   "source": [
    "*Если есть сомнения, какую ось указать, то подумаем по какому измерению мы бы сделали цикл для поиска статистического значения. Или другими словами, какое измерение мы \"свертываем\" в статистическую функцию.*"
   ]
  },
  {
   "cell_type": "markdown",
   "id": "d9934bb7-7619-4a58-a6a7-76dacca69294",
   "metadata": {
    "jp-MarkdownHeadingCollapsed": true
   },
   "source": [
    "## Lesson06"
   ]
  },
  {
   "cell_type": "markdown",
   "id": "6c02c06f-add4-45c1-9572-cd9651476e15",
   "metadata": {
    "jp-MarkdownHeadingCollapsed": true
   },
   "source": [
    "### np.random"
   ]
  },
  {
   "cell_type": "markdown",
   "id": "d0433452-3aa8-40fb-8088-b7262a40dfed",
   "metadata": {},
   "source": [
    "**Генерация рандомных целых чисел**"
   ]
  },
  {
   "cell_type": "markdown",
   "id": "7d8700f4-c7e6-496f-bb80-7681cadfdb8d",
   "metadata": {},
   "source": [
    "* первый параметр ```start,step, finish```,\n",
    "* второй параметр ```size=``` задаёт размер массива, который мы заполняем."
   ]
  },
  {
   "cell_type": "code",
   "execution_count": 120,
   "id": "c2a27541-b933-4fc3-8c19-cfdae56b0d6c",
   "metadata": {},
   "outputs": [
    {
     "data": {
      "text/plain": [
       "array([13, 19, 19, 10, 14, 19, 15, 15, 16, 19], dtype=int32)"
      ]
     },
     "execution_count": 120,
     "metadata": {},
     "output_type": "execute_result"
    }
   ],
   "source": [
    "arr = np.random.randint(10, 20, size=10)\n",
    "arr"
   ]
  },
  {
   "cell_type": "markdown",
   "id": "fcf6ef94-43a8-45b6-85a1-5dbaa1e9f20a",
   "metadata": {},
   "source": [
    "**Генерация уникальных рандомных целых чисел**"
   ]
  },
  {
   "cell_type": "markdown",
   "id": "b38a060a-4fe5-46b7-90e9-ce4c272de592",
   "metadata": {},
   "source": [
    "По сути, функция ```permutation()``` просто перемешивает все целые значения в промежутке ```[0, n)```. Т.е. в списке у нас хранятся уникальные значения."
   ]
  },
  {
   "cell_type": "code",
   "execution_count": 121,
   "id": "ffcde701-94c6-4387-800b-bff14644975d",
   "metadata": {},
   "outputs": [
    {
     "data": {
      "text/plain": [
       "array([16, 19, 11,  3,  6,  4, 17,  5,  8, 13, 14, 15,  9,  1,  2,  0,  7,\n",
       "       18, 10, 12], dtype=int32)"
      ]
     },
     "execution_count": 121,
     "metadata": {},
     "output_type": "execute_result"
    }
   ],
   "source": [
    "arr = np.random.permutation(20)\n",
    "arr"
   ]
  },
  {
   "cell_type": "markdown",
   "id": "dd4cc850-8cc3-4910-85de-078b030e7e2f",
   "metadata": {},
   "source": [
    "**Генерация матрицы с рандомными числами**"
   ]
  },
  {
   "cell_type": "code",
   "execution_count": 122,
   "id": "cc4c15a8-3b35-4f3c-94d5-2e09b826cb6c",
   "metadata": {},
   "outputs": [
    {
     "data": {
      "text/plain": [
       "array([[10, 12, 14,  1,  7],\n",
       "       [13,  4, 14, 13, 12]], dtype=int32)"
      ]
     },
     "execution_count": 122,
     "metadata": {},
     "output_type": "execute_result"
    }
   ],
   "source": [
    "np.random.randint(1, 15, size=(2, 5))"
   ]
  },
  {
   "cell_type": "markdown",
   "id": "f59b3d7d-68dc-4cda-9dfa-ccdca6fbf196",
   "metadata": {},
   "source": [
    "**Перемешка значений в массиве**"
   ]
  },
  {
   "cell_type": "code",
   "execution_count": 123,
   "id": "47d30c0e-8588-48b6-a1ea-25f71015e3e9",
   "metadata": {},
   "outputs": [
    {
     "data": {
      "text/plain": [
       "array([16, 38, 29,  3, 30, 28, 26, 18, 24,  9], dtype=int32)"
      ]
     },
     "execution_count": 123,
     "metadata": {},
     "output_type": "execute_result"
    }
   ],
   "source": [
    "arr = np.random.randint(40, size=10)\n",
    "arr"
   ]
  },
  {
   "cell_type": "code",
   "execution_count": 124,
   "id": "ebd0b53d-c7dc-4f06-8d9a-e91452573baa",
   "metadata": {},
   "outputs": [
    {
     "data": {
      "text/plain": [
       "array([ 9, 30,  3, 28, 38, 18, 26, 16, 24, 29], dtype=int32)"
      ]
     },
     "execution_count": 124,
     "metadata": {},
     "output_type": "execute_result"
    }
   ],
   "source": [
    "np.random.shuffle(arr)\n",
    "arr"
   ]
  },
  {
   "cell_type": "markdown",
   "id": "c58c454a-c1bd-4855-8176-768803ecae88",
   "metadata": {},
   "source": [
    "**Генерация случайных вещественных чисел**"
   ]
  },
  {
   "cell_type": "code",
   "execution_count": 125,
   "id": "29dabb90-f501-45c9-ad6c-7546e0ab7aba",
   "metadata": {},
   "outputs": [
    {
     "data": {
      "text/plain": [
       "array([0.57176402, 0.1507003 , 0.95968898, 0.37664669, 0.51871108,\n",
       "       0.99460056, 0.48893563, 0.85904626, 0.49947182, 0.05713032])"
      ]
     },
     "execution_count": 125,
     "metadata": {},
     "output_type": "execute_result"
    }
   ],
   "source": [
    "np.random.rand(10)"
   ]
  },
  {
   "cell_type": "code",
   "execution_count": 126,
   "id": "6ce13268-c823-430e-a5a8-a3664d5f790e",
   "metadata": {},
   "outputs": [
    {
     "data": {
      "text/plain": [
       "array([-1.51082683, -0.01869678,  0.25441112, -0.8462642 ,  0.0413609 ,\n",
       "        0.31590588,  2.35354919, -0.24409079,  1.50712515, -0.13013769])"
      ]
     },
     "execution_count": 126,
     "metadata": {},
     "output_type": "execute_result"
    }
   ],
   "source": [
    "np.random.randn(10)"
   ]
  },
  {
   "cell_type": "markdown",
   "id": "310917ce-b7a9-4826-9a65-6d1a72f065a4",
   "metadata": {},
   "source": [
    "**Генерация чисел в матрице**"
   ]
  },
  {
   "cell_type": "code",
   "execution_count": 127,
   "id": "6177e7b4-fcbb-4208-81c1-998d06ce1d79",
   "metadata": {},
   "outputs": [
    {
     "data": {
      "text/plain": [
       "array([[-0.52538544,  0.91330462,  1.78361882, -1.35112272,  1.42401917],\n",
       "       [ 0.90482458, -0.07437604,  0.81771548, -0.9263579 , -0.89684937]])"
      ]
     },
     "execution_count": 127,
     "metadata": {},
     "output_type": "execute_result"
    }
   ],
   "source": [
    "np.random.randn(2, 5)"
   ]
  },
  {
   "cell_type": "markdown",
   "id": "4a4e06f6-c3fb-4c64-8cca-8290edde1e31",
   "metadata": {
    "jp-MarkdownHeadingCollapsed": true
   },
   "source": [
    "### Сортировка. sort()"
   ]
  },
  {
   "cell_type": "markdown",
   "id": "d54df722-9d35-47ee-aa3f-38f4ff05509b",
   "metadata": {},
   "source": [
    "Метод ```sort()``` изменяет уже существующий массив и сортирует его по возрастанию."
   ]
  },
  {
   "cell_type": "code",
   "execution_count": 128,
   "id": "e34525a2-8426-470b-90f8-cc6619f72663",
   "metadata": {},
   "outputs": [
    {
     "data": {
      "text/plain": [
       "array([5, 0, 8, 0, 4, 9, 1, 3, 4, 9], dtype=int32)"
      ]
     },
     "execution_count": 128,
     "metadata": {},
     "output_type": "execute_result"
    }
   ],
   "source": [
    "arr = np.random.randint(10, size=10)\n",
    "arr"
   ]
  },
  {
   "cell_type": "code",
   "execution_count": 129,
   "id": "fa8e4b17-e6a4-4611-85d4-1663aa338c2f",
   "metadata": {},
   "outputs": [
    {
     "data": {
      "text/plain": [
       "array([0, 0, 1, 3, 4, 4, 5, 8, 9, 9], dtype=int32)"
      ]
     },
     "execution_count": 129,
     "metadata": {},
     "output_type": "execute_result"
    }
   ],
   "source": [
    "arr.sort()\n",
    "arr"
   ]
  },
  {
   "cell_type": "markdown",
   "id": "29cf0b07-c665-4059-8582-8fda2e46dd4c",
   "metadata": {
    "jp-MarkdownHeadingCollapsed": true
   },
   "source": [
    "### Фильтрация массива по уникальным значения. uniqe()"
   ]
  },
  {
   "cell_type": "markdown",
   "id": "ca66fc52-db1d-4316-8981-e631adc318f6",
   "metadata": {},
   "source": [
    "Допустим, что у нас есть массив, хранящий список имён, и нам нужно вывести только те имена, которые в нём не повторяются.  \n",
    "Для этого используем функцию **unique()**."
   ]
  },
  {
   "cell_type": "code",
   "execution_count": 130,
   "id": "fc1b5cad-8b34-4833-bf5c-58b024dd1e70",
   "metadata": {},
   "outputs": [
    {
     "data": {
      "text/plain": [
       "array(['Andrey', 'Boris', 'Ivan', 'Oleg'], dtype='<U6')"
      ]
     },
     "execution_count": 130,
     "metadata": {},
     "output_type": "execute_result"
    }
   ],
   "source": [
    "arr = np.array(['Andrey', 'Ivan', 'Oleg', 'Boris', 'Andrey'])\n",
    "np.unique(arr)"
   ]
  },
  {
   "cell_type": "markdown",
   "id": "3ac7a037-9413-4091-91b9-1a579100b856",
   "metadata": {},
   "source": [
    "У этой функции есть полезный аргумент **return_counts=**. Он возвращает количество раз, которое каждый уникальный элемент появляется в массиве."
   ]
  },
  {
   "cell_type": "code",
   "execution_count": 131,
   "id": "e1c60312-9f90-497b-a9ff-c0811908f961",
   "metadata": {},
   "outputs": [
    {
     "data": {
      "text/plain": [
       "(array(['Andrey', 'Boris', 'Ivan', 'Oleg'], dtype='<U6'), array([2, 1, 1, 1]))"
      ]
     },
     "execution_count": 131,
     "metadata": {},
     "output_type": "execute_result"
    }
   ],
   "source": [
    "unique_names = np.unique(arr, return_counts=True)\n",
    "unique_names"
   ]
  },
  {
   "cell_type": "markdown",
   "id": "1927c2eb-e46e-4227-84b1-3565103c6be4",
   "metadata": {},
   "source": [
    "С его помощью можно вывести список дублирующихся элементов."
   ]
  },
  {
   "cell_type": "code",
   "execution_count": 132,
   "id": "1466fe01-e781-48e9-a2a6-e2f692d0bdc5",
   "metadata": {},
   "outputs": [
    {
     "data": {
      "text/plain": [
       "array(['Andrey'], dtype='<U6')"
      ]
     },
     "execution_count": 132,
     "metadata": {},
     "output_type": "execute_result"
    }
   ],
   "source": [
    "count = unique_names[1]\n",
    "names = unique_names[0]\n",
    "names[count > 1]"
   ]
  },
  {
   "cell_type": "markdown",
   "id": "0b24635c-2e17-4c2d-b4e9-4066a1712087",
   "metadata": {
    "jp-MarkdownHeadingCollapsed": true
   },
   "source": [
    "### Проверка наличия элементов одного массива в другом. isin()"
   ]
  },
  {
   "cell_type": "markdown",
   "id": "4e5483d3-eba0-4b67-a37f-40c777b96d4a",
   "metadata": {},
   "source": [
    "Чтобы проверить наличие элементов одного массива в другом существует функция **isin()**, которая вернёт булев массив."
   ]
  },
  {
   "cell_type": "code",
   "execution_count": 133,
   "id": "29f918a0-a280-4646-938a-aa91c1e7487e",
   "metadata": {},
   "outputs": [
    {
     "data": {
      "text/plain": [
       "array([ True, False,  True, False,  True])"
      ]
     },
     "execution_count": 133,
     "metadata": {},
     "output_type": "execute_result"
    }
   ],
   "source": [
    "arr1 = np.array(['Andrey', 'Ivan', 'Oleg', 'Boris', 'Andrey'])\n",
    "arr2 = ['Oleg', 'Andrey']\n",
    "np.isin(arr1, arr2)"
   ]
  },
  {
   "cell_type": "markdown",
   "id": "6ff93e2e-f034-4ab0-ae33-a50d41849313",
   "metadata": {},
   "source": [
    "На этом примере:  \n",
    "* Andrey из ```arr1``` есть в ```arr2``` - True  \n",
    "* Ivan из ```arr1``` нет в ```arr2``` - False  \n",
    "* Oleg из ```arr1``` есть в ```arr2``` - True  \n",
    "* Boris из ```arr1``` нет в ```arr2``` - False  \n",
    "* Andrey из ```arr1``` есть в ```arr2``` - True"
   ]
  },
  {
   "cell_type": "markdown",
   "id": "20a14ab0-8ca1-4bed-ba08-caa0b3128611",
   "metadata": {
    "jp-MarkdownHeadingCollapsed": true
   },
   "source": [
    "### Линейная алгебра"
   ]
  },
  {
   "cell_type": "markdown",
   "id": "9adf6b7a-02c9-425c-b07a-f70c76fbb2c8",
   "metadata": {},
   "source": [
    "**Нулевая и единичная матрица**"
   ]
  },
  {
   "cell_type": "code",
   "execution_count": 20,
   "id": "e63a7804-7c29-4726-a390-84515b09ae43",
   "metadata": {},
   "outputs": [
    {
     "data": {
      "text/plain": [
       "array([[0., 0., 0.],\n",
       "       [0., 0., 0.]])"
      ]
     },
     "execution_count": 20,
     "metadata": {},
     "output_type": "execute_result"
    }
   ],
   "source": [
    "zero_matrix = np.zeros((2, 3))  # 2 строки и 3 столбца\n",
    "zero_matrix"
   ]
  },
  {
   "cell_type": "code",
   "execution_count": 22,
   "id": "66f369bf-4e76-4a03-bc52-5e26588bce2e",
   "metadata": {},
   "outputs": [
    {
     "data": {
      "text/plain": [
       "array([[1., 1., 1.],\n",
       "       [1., 1., 1.]])"
      ]
     },
     "execution_count": 22,
     "metadata": {},
     "output_type": "execute_result"
    }
   ],
   "source": [
    "ones_matrix = np.ones((2, 3))  # 2 строки и 3 столбца\n",
    "ones_matrix"
   ]
  },
  {
   "cell_type": "markdown",
   "id": "b5aa4661-49ca-48ff-9d60-087a1667d0e8",
   "metadata": {},
   "source": [
    "**Транспонирование**"
   ]
  },
  {
   "cell_type": "code",
   "execution_count": 134,
   "id": "befed029-6984-4a01-b945-70007e4a5759",
   "metadata": {},
   "outputs": [
    {
     "data": {
      "text/plain": [
       "array([[ 1,  5,  0],\n",
       "       [ 6,  2,  0],\n",
       "       [-2,  4,  8]])"
      ]
     },
     "execution_count": 134,
     "metadata": {},
     "output_type": "execute_result"
    }
   ],
   "source": [
    "a = np.array([[1, 5, 0], [6, 2, 0], [-2, 4, 8]])\n",
    "a"
   ]
  },
  {
   "cell_type": "code",
   "execution_count": 135,
   "id": "bfbf30cc-23cd-4402-a445-30c5f50a0810",
   "metadata": {},
   "outputs": [
    {
     "data": {
      "text/plain": [
       "array([[ 1,  6, -2],\n",
       "       [ 5,  2,  4],\n",
       "       [ 0,  0,  8]])"
      ]
     },
     "execution_count": 135,
     "metadata": {},
     "output_type": "execute_result"
    }
   ],
   "source": [
    "a.T"
   ]
  },
  {
   "cell_type": "code",
   "execution_count": 136,
   "id": "a4c4bc5d-c884-4393-a060-2c754773a29d",
   "metadata": {},
   "outputs": [
    {
     "data": {
      "text/plain": [
       "array([[ 1,  6, -2],\n",
       "       [ 5,  2,  4],\n",
       "       [ 0,  0,  8]])"
      ]
     },
     "execution_count": 136,
     "metadata": {},
     "output_type": "execute_result"
    }
   ],
   "source": [
    "a.transpose()"
   ]
  },
  {
   "cell_type": "markdown",
   "id": "1183cb29-6997-4e41-9e0d-73a85ea4de1e",
   "metadata": {},
   "source": [
    "**Произведение матриц**"
   ]
  },
  {
   "cell_type": "code",
   "execution_count": 137,
   "id": "8761d772-b4a7-4ca6-b135-06396d604e81",
   "metadata": {},
   "outputs": [
    {
     "data": {
      "text/plain": [
       "array([[26, 16, 18],\n",
       "       [16, 40, -4],\n",
       "       [18, -4, 84]])"
      ]
     },
     "execution_count": 137,
     "metadata": {},
     "output_type": "execute_result"
    }
   ],
   "source": [
    "np.dot(a, a.T)"
   ]
  },
  {
   "cell_type": "markdown",
   "id": "779134f9-5878-4c12-92cc-326045655021",
   "metadata": {},
   "source": [
    "**Определитель**"
   ]
  },
  {
   "cell_type": "code",
   "execution_count": 138,
   "id": "03c58672-cc1a-4744-ae91-694b0deb2c49",
   "metadata": {},
   "outputs": [
    {
     "data": {
      "text/plain": [
       "np.float64(-224.00000000000014)"
      ]
     },
     "execution_count": 138,
     "metadata": {},
     "output_type": "execute_result"
    }
   ],
   "source": [
    "np.linalg.det(a)"
   ]
  },
  {
   "cell_type": "markdown",
   "id": "01d27e58-0cc9-4573-84c1-ece7607dcfff",
   "metadata": {
    "jp-MarkdownHeadingCollapsed": true
   },
   "source": [
    "**Обратная матрица**"
   ]
  },
  {
   "cell_type": "code",
   "execution_count": 139,
   "id": "8379a181-2be0-4467-8487-602b73dc90bf",
   "metadata": {},
   "outputs": [
    {
     "data": {
      "text/plain": [
       "array([[-0.07142857,  0.17857143,  0.        ],\n",
       "       [ 0.21428571, -0.03571429,  0.        ],\n",
       "       [-0.125     ,  0.0625    ,  0.125     ]])"
      ]
     },
     "execution_count": 139,
     "metadata": {},
     "output_type": "execute_result"
    }
   ],
   "source": [
    "np.linalg.inv(a)"
   ]
  },
  {
   "cell_type": "markdown",
   "id": "15cac93c-0604-4678-bb50-0275903b1af0",
   "metadata": {},
   "source": [
    "**Главная диагональ**"
   ]
  },
  {
   "cell_type": "code",
   "execution_count": 140,
   "id": "9ead7603-96d5-4042-8847-696e34fe611c",
   "metadata": {},
   "outputs": [
    {
     "data": {
      "text/plain": [
       "array([1, 2, 8])"
      ]
     },
     "execution_count": 140,
     "metadata": {},
     "output_type": "execute_result"
    }
   ],
   "source": [
    "np.diag(a)"
   ]
  },
  {
   "cell_type": "markdown",
   "id": "4326f1cd-8c53-41e6-97b6-ed8c443dd429",
   "metadata": {},
   "source": [
    "**Верхний треугольник**"
   ]
  },
  {
   "cell_type": "code",
   "execution_count": 141,
   "id": "a776eb43-7b85-4009-a25d-8cb9b7290ad1",
   "metadata": {},
   "outputs": [
    {
     "data": {
      "text/plain": [
       "array([[1, 5, 0],\n",
       "       [0, 2, 0],\n",
       "       [0, 0, 8]])"
      ]
     },
     "execution_count": 141,
     "metadata": {},
     "output_type": "execute_result"
    }
   ],
   "source": [
    "np.triu(a)"
   ]
  },
  {
   "cell_type": "markdown",
   "id": "010ca066-ae1a-4d4f-8928-0abce295b35a",
   "metadata": {},
   "source": [
    "**Нижний треугольник**"
   ]
  },
  {
   "cell_type": "code",
   "execution_count": 142,
   "id": "7dca47f2-fa0c-43b3-a790-3d5d915decb7",
   "metadata": {},
   "outputs": [
    {
     "data": {
      "text/plain": [
       "array([[ 1,  0,  0],\n",
       "       [ 6,  2,  0],\n",
       "       [-2,  4,  8]])"
      ]
     },
     "execution_count": 142,
     "metadata": {},
     "output_type": "execute_result"
    }
   ],
   "source": [
    "np.tril(a)"
   ]
  },
  {
   "cell_type": "markdown",
   "id": "9fc49630-6d25-4912-8ae0-dd3376df9df1",
   "metadata": {},
   "source": [
    "**Сумма главной диагонали**"
   ]
  },
  {
   "cell_type": "code",
   "execution_count": 143,
   "id": "61a0415b-197b-4b4c-b25f-971e9d7a0648",
   "metadata": {},
   "outputs": [
    {
     "data": {
      "text/plain": [
       "np.int64(11)"
      ]
     },
     "execution_count": 143,
     "metadata": {},
     "output_type": "execute_result"
    }
   ],
   "source": [
    "np.trace(a)"
   ]
  },
  {
   "cell_type": "markdown",
   "id": "2627d553-8456-4a41-b181-4c8eaf871e83",
   "metadata": {},
   "source": [
    "**Поворот на 90 градусов вправо и влево**"
   ]
  },
  {
   "cell_type": "code",
   "execution_count": 144,
   "id": "5fb5b766-ae27-4d1c-893b-dc4672d045d5",
   "metadata": {},
   "outputs": [
    {
     "data": {
      "text/plain": [
       "array([[ 0,  0,  8],\n",
       "       [ 5,  2,  4],\n",
       "       [ 1,  6, -2]])"
      ]
     },
     "execution_count": 144,
     "metadata": {},
     "output_type": "execute_result"
    }
   ],
   "source": [
    "np.rot90(a)"
   ]
  },
  {
   "cell_type": "code",
   "execution_count": 164,
   "id": "e385952a-f881-43a8-9095-ece0df68b31b",
   "metadata": {},
   "outputs": [
    {
     "data": {
      "text/plain": [
       "array([[-2,  6,  1],\n",
       "       [ 4,  2,  5],\n",
       "       [ 8,  0,  0]])"
      ]
     },
     "execution_count": 164,
     "metadata": {},
     "output_type": "execute_result"
    }
   ],
   "source": [
    "np.rot90(a, -1)"
   ]
  },
  {
   "cell_type": "markdown",
   "id": "038b3ad7-6851-46b2-aa91-1244f71f6770",
   "metadata": {
    "jp-MarkdownHeadingCollapsed": true
   },
   "source": [
    "## Lesson07"
   ]
  },
  {
   "cell_type": "markdown",
   "id": "11221d0f-6d14-4c77-90a2-e5406a4c4dc2",
   "metadata": {
    "jp-MarkdownHeadingCollapsed": true
   },
   "source": [
    "### Функции any() и all()"
   ]
  },
  {
   "cell_type": "markdown",
   "id": "beba2205-7928-4d1f-b2ea-b2852e913029",
   "metadata": {},
   "source": [
    "В numpy функции ```any``` и ```all``` используются для проверки элементов массива на истинность. Они работают аналогично встроенным функциям Python any() и all(), но могут работать по определённым осям массива."
   ]
  },
  {
   "cell_type": "markdown",
   "id": "12fbcb97-f679-4e52-bf6e-44b5d5735c74",
   "metadata": {},
   "source": [
    "**any**"
   ]
  },
  {
   "cell_type": "markdown",
   "id": "7ac19961-e037-4fcc-858e-ceae35184b22",
   "metadata": {},
   "source": [
    "Проверяет, есть ли **хотя бы один** True (или ненулевой элемент) в массиве."
   ]
  },
  {
   "cell_type": "code",
   "execution_count": 145,
   "id": "ea2b59f2-a65c-4cbf-83bb-fd2e04971cc8",
   "metadata": {},
   "outputs": [
    {
     "data": {
      "text/plain": [
       "array([[0, 1, 0],\n",
       "       [0, 0, 0]])"
      ]
     },
     "execution_count": 145,
     "metadata": {},
     "output_type": "execute_result"
    }
   ],
   "source": [
    "arr = np.array([[0, 1, 0], [0, 0, 0]])\n",
    "arr"
   ]
  },
  {
   "cell_type": "code",
   "execution_count": 146,
   "id": "032905be-0092-4b4c-ba5c-a7120e8de6a9",
   "metadata": {},
   "outputs": [
    {
     "data": {
      "text/plain": [
       "np.True_"
      ]
     },
     "execution_count": 146,
     "metadata": {},
     "output_type": "execute_result"
    }
   ],
   "source": [
    "np.any(arr)  # True, так как хотя бы один элемент ненулевой"
   ]
  },
  {
   "cell_type": "code",
   "execution_count": 147,
   "id": "ffaaa160-709d-484e-8726-aa34319ae070",
   "metadata": {},
   "outputs": [
    {
     "data": {
      "text/plain": [
       "array([False,  True, False])"
      ]
     },
     "execution_count": 147,
     "metadata": {},
     "output_type": "execute_result"
    }
   ],
   "source": [
    "np.any(arr, axis=0)  # проверка по столбцам"
   ]
  },
  {
   "cell_type": "code",
   "execution_count": 148,
   "id": "cb6362e8-910c-469a-8157-956d9ddb4714",
   "metadata": {},
   "outputs": [
    {
     "data": {
      "text/plain": [
       "array([ True, False])"
      ]
     },
     "execution_count": 148,
     "metadata": {},
     "output_type": "execute_result"
    }
   ],
   "source": [
    "np.any(arr, axis=1)  # проверка по строкам"
   ]
  },
  {
   "cell_type": "markdown",
   "id": "435f4387-d79f-448f-9ba5-21fc099cb461",
   "metadata": {},
   "source": [
    "**all**"
   ]
  },
  {
   "cell_type": "markdown",
   "id": "6ce227cb-7a9f-4223-8a0b-a5d97f4c0401",
   "metadata": {},
   "source": [
    "Проверяет, являются ли **все** элементы массива True (ненулевыми)."
   ]
  },
  {
   "cell_type": "code",
   "execution_count": 149,
   "id": "7db65a88-5b91-43eb-a697-33a4599c1cc9",
   "metadata": {},
   "outputs": [
    {
     "data": {
      "text/plain": [
       "array([[1, 1, 1],\n",
       "       [1, 0, 1]])"
      ]
     },
     "execution_count": 149,
     "metadata": {},
     "output_type": "execute_result"
    }
   ],
   "source": [
    "arr = np.array([[1, 1, 1], [1, 0, 1]])\n",
    "arr"
   ]
  },
  {
   "cell_type": "code",
   "execution_count": 150,
   "id": "360db653-a2db-4c1b-b2b2-f201f5ba869f",
   "metadata": {},
   "outputs": [
    {
     "data": {
      "text/plain": [
       "np.False_"
      ]
     },
     "execution_count": 150,
     "metadata": {},
     "output_type": "execute_result"
    }
   ],
   "source": [
    "np.all(arr)  # False, так как есть хотя бы один 0"
   ]
  },
  {
   "cell_type": "code",
   "execution_count": 151,
   "id": "cf644e32-4d7b-4b02-81bd-45fada4d9a2a",
   "metadata": {},
   "outputs": [
    {
     "data": {
      "text/plain": [
       "array([ True, False,  True])"
      ]
     },
     "execution_count": 151,
     "metadata": {},
     "output_type": "execute_result"
    }
   ],
   "source": [
    "np.all(arr, axis=0)  # проверка по столбцам"
   ]
  },
  {
   "cell_type": "code",
   "execution_count": 152,
   "id": "fe5cfe32-31bd-4929-be6c-b1ae228d3131",
   "metadata": {},
   "outputs": [
    {
     "data": {
      "text/plain": [
       "array([ True, False])"
      ]
     },
     "execution_count": 152,
     "metadata": {},
     "output_type": "execute_result"
    }
   ],
   "source": [
    "np.all(arr, axis=1)  # проверка по строкам"
   ]
  },
  {
   "cell_type": "markdown",
   "id": "28d6505f-b913-480b-b29a-806de5e90cf9",
   "metadata": {
    "jp-MarkdownHeadingCollapsed": true
   },
   "source": [
    "### Работа с файлами"
   ]
  },
  {
   "cell_type": "code",
   "execution_count": 153,
   "id": "485adb17-43a3-41f3-8c23-852f810e3163",
   "metadata": {},
   "outputs": [],
   "source": [
    "arr = np.array([0, 1, 2, 3, 4])"
   ]
  },
  {
   "cell_type": "markdown",
   "id": "adff95e1-dc91-4539-86ae-c8dca5f79902",
   "metadata": {},
   "source": [
    "**Запись в файл**"
   ]
  },
  {
   "cell_type": "code",
   "execution_count": 154,
   "id": "b7ec0ee1-cdc2-4113-9f38-f6f1004e1433",
   "metadata": {},
   "outputs": [],
   "source": [
    "np.save('my file', arr)"
   ]
  },
  {
   "cell_type": "markdown",
   "id": "3f60a56c-bf4b-4639-8e07-bb0b3aafcc8a",
   "metadata": {},
   "source": [
    "**Чтение из файла**"
   ]
  },
  {
   "cell_type": "code",
   "execution_count": 155,
   "id": "9238c52a-6f83-4dad-b217-591e9421ecc5",
   "metadata": {},
   "outputs": [
    {
     "data": {
      "text/plain": [
       "array([0, 1, 2, 3, 4])"
      ]
     },
     "execution_count": 155,
     "metadata": {},
     "output_type": "execute_result"
    }
   ],
   "source": [
    "np.load('my file.npy')"
   ]
  },
  {
   "cell_type": "markdown",
   "id": "077b115a-00b4-4c4a-a239-f3ffc28c4e00",
   "metadata": {},
   "source": [
    "**Как записать несколько массивов в файл и прочитать**"
   ]
  },
  {
   "cell_type": "code",
   "execution_count": 156,
   "id": "fb9e63f5-1994-4f0d-8fe4-97481ba5a6b3",
   "metadata": {},
   "outputs": [],
   "source": [
    "arr1 = np.array([0, 1, 2, 3, 4])\n",
    "arr2 = np.array([5, 6, 7, 8, 9])"
   ]
  },
  {
   "cell_type": "code",
   "execution_count": 157,
   "id": "bc9eedf8-a9bb-4854-af07-b0b80fd86a15",
   "metadata": {},
   "outputs": [],
   "source": [
    "np.savez('arrays', key1=arr1, key2=arr2)"
   ]
  },
  {
   "cell_type": "code",
   "execution_count": 158,
   "id": "e52463e2-e1ff-412a-b25a-ff2a85fb5a1c",
   "metadata": {},
   "outputs": [
    {
     "data": {
      "text/plain": [
       "NpzFile 'arrays.npz' with keys: key1, key2"
      ]
     },
     "execution_count": 158,
     "metadata": {},
     "output_type": "execute_result"
    }
   ],
   "source": [
    "dict = np.load('arrays.npz')\n",
    "dict"
   ]
  },
  {
   "cell_type": "code",
   "execution_count": 159,
   "id": "83792391-31ff-41bb-be5a-01ad35a7aca4",
   "metadata": {},
   "outputs": [
    {
     "data": {
      "text/plain": [
       "['key1', 'key2']"
      ]
     },
     "execution_count": 159,
     "metadata": {},
     "output_type": "execute_result"
    }
   ],
   "source": [
    "dict.files"
   ]
  },
  {
   "cell_type": "code",
   "execution_count": 160,
   "id": "d87d436c-bc0c-4076-adfe-3334129a85ae",
   "metadata": {},
   "outputs": [
    {
     "data": {
      "text/plain": [
       "array([0, 1, 2, 3, 4])"
      ]
     },
     "execution_count": 160,
     "metadata": {},
     "output_type": "execute_result"
    }
   ],
   "source": [
    "dict['key1']"
   ]
  },
  {
   "cell_type": "code",
   "execution_count": 161,
   "id": "26aca6b1-f8a1-4252-a822-16521ba54b01",
   "metadata": {},
   "outputs": [
    {
     "data": {
      "text/plain": [
       "array([5, 6, 7, 8, 9])"
      ]
     },
     "execution_count": 161,
     "metadata": {},
     "output_type": "execute_result"
    }
   ],
   "source": [
    "dict['key2']"
   ]
  },
  {
   "cell_type": "markdown",
   "id": "37049fcd-e3d7-426a-9001-6de08fb88e46",
   "metadata": {},
   "source": [
    "**Как сжать файл**"
   ]
  },
  {
   "cell_type": "code",
   "execution_count": 162,
   "id": "4588a048-d1ed-4258-a0a9-68f075fb7aec",
   "metadata": {},
   "outputs": [],
   "source": [
    "np.savez_compressed('compressed', col1=arr1, col2=arr2)"
   ]
  },
  {
   "cell_type": "code",
   "execution_count": 163,
   "id": "d9f10ff1-e366-4fbb-9bc1-d8175140296d",
   "metadata": {},
   "outputs": [
    {
     "data": {
      "text/plain": [
       "NpzFile 'compressed.npz' with keys: col1, col2"
      ]
     },
     "execution_count": 163,
     "metadata": {},
     "output_type": "execute_result"
    }
   ],
   "source": [
    "np.load('compressed.npz')"
   ]
  },
  {
   "cell_type": "code",
   "execution_count": null,
   "id": "6bad5ec7-a307-4377-85d5-c7963e96452f",
   "metadata": {},
   "outputs": [],
   "source": []
  }
 ],
 "metadata": {
  "kernelspec": {
   "display_name": "Python 3 (ipykernel)",
   "language": "python",
   "name": "python3"
  },
  "language_info": {
   "codemirror_mode": {
    "name": "ipython",
    "version": 3
   },
   "file_extension": ".py",
   "mimetype": "text/x-python",
   "name": "python",
   "nbconvert_exporter": "python",
   "pygments_lexer": "ipython3",
   "version": "3.12.8"
  }
 },
 "nbformat": 4,
 "nbformat_minor": 5
}
